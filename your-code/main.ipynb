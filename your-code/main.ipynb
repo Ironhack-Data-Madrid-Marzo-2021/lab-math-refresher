{
 "cells": [
  {
   "cell_type": "code",
   "execution_count": 1,
   "metadata": {},
   "outputs": [],
   "source": [
    "#imports\n",
    "import matplotlib.pyplot as plt\n",
    "import numpy as np\n"
   ]
  },
  {
   "cell_type": "markdown",
   "metadata": {},
   "source": [
    "### 1. Euclidean plane"
   ]
  },
  {
   "cell_type": "markdown",
   "metadata": {},
   "source": [
    "Consider this 3 points on 2D space:  \n",
    "$A=(4, 5)$  \n",
    "$B=(-2, -4)$  \n",
    "$C=(8, -1)$  "
   ]
  },
  {
   "cell_type": "markdown",
   "metadata": {},
   "source": [
    "#### 1.1. Plot them using `matplotlib`  "
   ]
  },
  {
   "cell_type": "code",
   "execution_count": 2,
   "metadata": {},
   "outputs": [
    {
     "data": {
      "text/plain": [
       "<matplotlib.legend.Legend at 0x7fe0ed75afd0>"
      ]
     },
     "execution_count": 2,
     "metadata": {},
     "output_type": "execute_result"
    },
    {
     "data": {
      "image/png": "[encoded data removed]",
      "text/plain": [
       "<Figure size 432x432 with 1 Axes>"
      ]
     },
     "metadata": {
      "needs_background": "light"
     },
     "output_type": "display_data"
    }
   ],
   "source": [
    "A = (4,5)\n",
    "B = (-2,-4)\n",
    "C = (8,-1)\n",
    "\n",
    "# create a plot\n",
    "fig, ax = plt.subplots(figsize=(6, 6))\n",
    "\n",
    "ticks = np.arange(-10, 11, 1)\n",
    "ax.set_xticks(ticks)\n",
    "ax.set_yticks(ticks)\n",
    "ax.grid(True, which='both')\n",
    "\n",
    "ax.axhline(y=0, color='k')\n",
    "ax.axvline(x=0, color='k')\n",
    "\n",
    "# add points. \"o\" stands for circle, \"*\" would be a star point\n",
    "plt.plot(A[0], A[1], \"o\", markersize=10, label=\"A\")\n",
    "plt.plot(B[0], B[1], \"o\", markersize=10, label=\"B\")\n",
    "plt.plot(C[0], C[1], \"o\", markersize=10, label=\"C\")\n",
    "\n",
    "# set axis limits\n",
    "ax.set_xlim([-10, 10])\n",
    "ax.set_ylim([-10, 10])\n",
    "\n",
    "ax.plot((A[0], B[0]), (A[1], B[1]), \"black\")\n",
    "ax.plot((A[0], C[0]), (A[1], C[1]), \"black\")\n",
    "ax.plot((C[0], B[0]), (C[1], B[1]), \"black\")\n",
    "\n",
    "# this adds top right legend for labeled elements\n",
    "plt.legend()"
   ]
  },
  {
   "cell_type": "markdown",
   "metadata": {},
   "source": [
    "#### 1.2. Which distance is longer, $AC, AB, \\text{or} BC$? Write a function that calculates distance between two points."
   ]
  },
  {
   "cell_type": "code",
   "execution_count": 3,
   "metadata": {},
   "outputs": [],
   "source": [
    "def distance(punto1, punto2):\n",
    "    d1 = punto1[0]-punto2[0]\n",
    "    d2 = punto1[1]-punto2[1]\n",
    "    d3 = d1**2+d2**2\n",
    "    dist = np.sqrt(d3)\n",
    "    return dist"
   ]
  },
  {
   "cell_type": "code",
   "execution_count": 4,
   "metadata": {},
   "outputs": [
    {
     "name": "stdout",
     "output_type": "stream",
     "text": [
      "La distancia mas grande es AB = 10.816653826391969\n"
     ]
    }
   ],
   "source": [
    "if distance(A,B) > distance(A,C):\n",
    "    print (f\"La distancia mas grande es AB = {distance(A,B)}\")\n",
    "elif distance(A,B) < distance(A,C):\n",
    "    print (f\"La distancia mas grande es AC = {distance(A,C)}\") \n",
    "elif distance(B,C) > distance(A,C):\n",
    "    print (f\"La distancia mas grande es BC = {distance(B,C)}\")\n",
    "elif distance(B,C) < distance(A,C):\n",
    "    print (f\"La distancia mas grande es AC = {distance(A,C)}\")\n",
    "elif distance(B,C) > distance(A,B):\n",
    "    print (f\"La distancia mas grande es BC = {distance(B,C)}\")\n",
    "elif distance(B,C) < distance(A,B):\n",
    "    print (f\"La distancia mas grande es AB = {distance(A,B)}\")  "
   ]
  },
  {
   "cell_type": "markdown",
   "metadata": {},
   "source": [
    "#### 1.3. What is the perimeter of triangle $ABC$?"
   ]
  },
  {
   "cell_type": "code",
   "execution_count": 5,
   "metadata": {},
   "outputs": [
    {
     "data": {
      "text/plain": [
       "28.47"
      ]
     },
     "execution_count": 5,
     "metadata": {},
     "output_type": "execute_result"
    }
   ],
   "source": [
    "perimeter = distance(A,B) + distance(B,C) + distance(C,A)\n",
    "perimeter.round(2)"
   ]
  },
  {
   "cell_type": "markdown",
   "metadata": {},
   "source": [
    "### 2. Linear functions"
   ]
  },
  {
   "cell_type": "markdown",
   "metadata": {},
   "source": [
    "Consider the following straight lines on 2D space:  \n",
    "$y_1=2x-3$  \n",
    "$y_2=-3x+12$  "
   ]
  },
  {
   "cell_type": "markdown",
   "metadata": {},
   "source": [
    "#### 2.1. Plot them"
   ]
  },
  {
   "cell_type": "code",
   "execution_count": 6,
   "metadata": {},
   "outputs": [],
   "source": [
    "def initialize_grid(limites, rejilla):\n",
    "    fig, ax = plt.subplots(figsize=(6, 6))\n",
    "    \n",
    "    # where do we want lines\n",
    "    \n",
    "    \n",
    "    # draw grid\n",
    "    if rejilla:\n",
    "        ticks = np.arange(-limites, limites, 1)\n",
    "        ax.set_xticks(ticks)\n",
    "        ax.set_yticks(ticks)\n",
    "        ax.grid(True, which='both')\n",
    "    \n",
    "    # 1-1 X and Y proportion\n",
    "    ax.set_aspect('equal')\n",
    "    \n",
    "    # X and Y axes\n",
    "    ax.axhline(y=0, color='k')\n",
    "    ax.axvline(x=0, color='k')\n",
    "    \n",
    "    # set axes' limits\n",
    "    ax.set_xlim([-limites, limites])\n",
    "    ax.set_ylim([-limites, limites])"
   ]
  },
  {
   "cell_type": "code",
   "execution_count": 7,
   "metadata": {},
   "outputs": [
    {
     "data": {
      "text/plain": [
       "<matplotlib.legend.Legend at 0x7fe0e8e0ffa0>"
      ]
     },
     "execution_count": 7,
     "metadata": {},
     "output_type": "execute_result"
    },
    {
     "data": {
      "image/png": "[encoded data removed]",
      "text/plain": [
       "<Figure size 432x432 with 1 Axes>"
      ]
     },
     "metadata": {
      "needs_background": "light"
     },
     "output_type": "display_data"
    }
   ],
   "source": [
    "initialize_grid(10,True)\n",
    "\n",
    "x = np.linspace(\n",
    "    start=-10, \n",
    "    stop=10,\n",
    "    num=300\n",
    ")\n",
    "\n",
    "y1 = x * 2 -3\n",
    "y2 = - x * 3 +12\n",
    "\n",
    "plt.plot(x, y1, \"-\", markersize=10, label=\"y = x * 2 -3\")\n",
    "plt.plot(x, y2, \"-\", markersize=10,label=\"y2 = - x * 3 +12\")\n",
    "\n",
    "plt.legend()"
   ]
  },
  {
   "cell_type": "markdown",
   "metadata": {},
   "source": [
    "#### 2.2. What are the respective slopes"
   ]
  },
  {
   "cell_type": "markdown",
   "metadata": {},
   "source": [
    "In `y1` the slope is 2 and inn `y2`the slope is -3, thats why y2 decrease."
   ]
  },
  {
   "cell_type": "markdown",
   "metadata": {},
   "source": [
    "#### 2.3. Give 3 points through which $y_1$ goes through"
   ]
  },
  {
   "cell_type": "code",
   "execution_count": 8,
   "metadata": {},
   "outputs": [
    {
     "name": "stdout",
     "output_type": "stream",
     "text": [
      "En y1:\n",
      "Para x = 0, y = -3\n",
      "Para x = 3, y = 3\n",
      "Para x = 6, y = 9\n"
     ]
    }
   ],
   "source": [
    "print(\"En y1:\")\n",
    "for i in range (0,9,3):\n",
    "    print(f\"Para x = {i}, y = {i*2-3}\")"
   ]
  },
  {
   "cell_type": "code",
   "execution_count": 9,
   "metadata": {},
   "outputs": [
    {
     "name": "stdout",
     "output_type": "stream",
     "text": [
      "En y1:\n",
      "Para x = 0, y = 12\n",
      "Para x = 3, y = 3\n",
      "Para x = 6, y = -6\n"
     ]
    }
   ],
   "source": [
    "print(\"En y1:\")\n",
    "for i in range (0,9,3):\n",
    "    print(f\"Para x = {i}, y = {-i*3+12}\")"
   ]
  },
  {
   "cell_type": "markdown",
   "metadata": {},
   "source": [
    "#### 2.4. Where do they intersect?"
   ]
  },
  {
   "cell_type": "code",
   "execution_count": 10,
   "metadata": {},
   "outputs": [
    {
     "name": "stdout",
     "output_type": "stream",
     "text": [
      "(3,3)\n"
     ]
    }
   ],
   "source": [
    "for i in range(100):\n",
    "    y1 = i*2-3\n",
    "    y2 = -i*3+12\n",
    "    if y1 == y2:\n",
    "        print(f\"({i},{i*2-3})\")\n",
    "        break"
   ]
  },
  {
   "cell_type": "markdown",
   "metadata": {},
   "source": [
    "#### 2.5. BONUS "
   ]
  },
  {
   "cell_type": "markdown",
   "metadata": {},
   "source": [
    "My yearly salary has increased **linearly** with my age:  \n",
    "When I was 21 years old, I did 10000\\\\$ / year    \n",
    "Today I am 39 years old, I am doing 33400\\\\$ / year  \n",
    "How much will I do when I get 50 years old?"
   ]
  },
  {
   "cell_type": "code",
   "execution_count": 11,
   "metadata": {},
   "outputs": [
    {
     "name": "stdout",
     "output_type": "stream",
     "text": [
      "La funcion del sueldo es :\n",
      "   y = x*1300.0 - 17300.0\n"
     ]
    }
   ],
   "source": [
    "p1 = (21,10000)\n",
    "p2 = (39,33400)\n",
    "\n",
    "paso1 = (p2[1]-p1[1])/(p2[0]-p1[0])\n",
    "paso1\n",
    "print(f\"La funcion del sueldo es :\\n   y = x*{paso1} - {paso1*p1[0]-p1[1]}\")"
   ]
  },
  {
   "cell_type": "code",
   "execution_count": 12,
   "metadata": {},
   "outputs": [
    {
     "name": "stdout",
     "output_type": "stream",
     "text": [
      "Cuando tenga 50 años, mi sueldo sera: 47700.0\n"
     ]
    },
    {
     "data": {
      "image/png": "[encoded data removed]",
      "text/plain": [
       "<Figure size 432x432 with 1 Axes>"
      ]
     },
     "metadata": {
      "needs_background": "light"
     },
     "output_type": "display_data"
    }
   ],
   "source": [
    "initialize_grid(90,False)\n",
    "\n",
    "x = np.linspace(\n",
    "    start=18, \n",
    "    stop=80,\n",
    "    num=300\n",
    ")\n",
    "\n",
    "y4 = x*1.3000 - 17.3000\n",
    "\n",
    "plt.plot(x, y4, \"-\", markersize=500, label=\"y = x*1.3 k - 17.3 k\")\n",
    "\n",
    "plt.legend()\n",
    "print(f\"Cuando tenga 50 años, mi sueldo sera: {50*1300.0 - 17300.0}\")"
   ]
  },
  {
   "cell_type": "code",
   "execution_count": 13,
   "metadata": {},
   "outputs": [
    {
     "name": "stdout",
     "output_type": "stream",
     "text": [
      "introduce una edad\n",
      "None34\n",
      "Cuando tenga 34 años, mi sueldo sera: 26900.0\n"
     ]
    }
   ],
   "source": [
    "year = int(input(print(\"introduce una edad\")))\n",
    "print(f\"Cuando tenga {year} años, mi sueldo sera: {year*1300.0 - 17300.0}\")"
   ]
  },
  {
   "cell_type": "markdown",
   "metadata": {},
   "source": [
    "### 3. Polynomials"
   ]
  },
  {
   "cell_type": "markdown",
   "metadata": {},
   "source": [
    "Consider these different degree polynomials:  \n",
    "$y_2=x^2-3x-10$  \n",
    "$y_3=x^3-2x^2+5x+1$  \n",
    "$y_4=x^4-x^3+x^2-x+1$  "
   ]
  },
  {
   "cell_type": "markdown",
   "metadata": {},
   "source": [
    "#### 3.1. Plot them"
   ]
  },
  {
   "cell_type": "code",
   "execution_count": 50,
   "metadata": {},
   "outputs": [
    {
     "data": {
      "text/plain": [
       "<matplotlib.legend.Legend at 0x7fe0b489abb0>"
      ]
     },
     "execution_count": 50,
     "metadata": {},
     "output_type": "execute_result"
    },
    {
     "data": {
      "image/png": "[encoded data removed]",
      "text/plain": [
       "<Figure size 432x432 with 1 Axes>"
      ]
     },
     "metadata": {
      "needs_background": "light"
     },
     "output_type": "display_data"
    }
   ],
   "source": [
    "initialize_grid(25,False)\n",
    "\n",
    "x = np.linspace(\n",
    "    start=-10, \n",
    "    stop=10,\n",
    "    num=300\n",
    ")\n",
    "\n",
    "\n",
    "y2=x**2-3*x-10\n",
    "y3=x**3-2*x**2+5*x+1 \n",
    "y4=x**4-x**3+x**2-x+1\n",
    "\n",
    "plt.plot(x, y2, \"-\", label=\"y2=x**2-3x-10\")\n",
    "plt.plot(x, y3, \"-\", label=\"degree 3\")\n",
    "plt.plot(x, y4, \"-\", label=\"degree 4\")\n",
    "\n",
    "plt.legend()"
   ]
  },
  {
   "cell_type": "markdown",
   "metadata": {},
   "source": [
    "#### 3.2. Which one takes a bigger value on $x=0$? On $x=2$? On $x=100$?"
   ]
  },
  {
   "cell_type": "code",
   "execution_count": 15,
   "metadata": {},
   "outputs": [
    {
     "name": "stdout",
     "output_type": "stream",
     "text": [
      "En y2 para x = 0 y = -10\n",
      "En y3 para x = 0 y = 1\n",
      "En y4 para x = 0 y = 1\n",
      "En y2 para x = 2 y = -12\n",
      "En y3 para x = 2 y = 11\n",
      "En y4 para x = 2 y = 11\n",
      "En y2 para x = 100 y = 9690\n",
      "En y3 para x = 100 y = 980501\n",
      "En y4 para x = 100 y = 99009901\n"
     ]
    }
   ],
   "source": [
    "valores = [0,2,100]\n",
    "for i in valores:\n",
    "    print(f\"En y2 para x = {i} y = {i**2-3*i-10}\")\n",
    "    print(f\"En y3 para x = {i} y = {i**3-2*i**2+5*i+1}\")\n",
    "    print(f\"En y4 para x = {i} y = {i**4-i**3+i**2-i+1}\")"
   ]
  },
  {
   "cell_type": "markdown",
   "metadata": {},
   "source": [
    "#### 3.3. Who is the vertex of parabola $y_2$?"
   ]
  },
  {
   "cell_type": "code",
   "execution_count": 16,
   "metadata": {},
   "outputs": [
    {
     "name": "stdout",
     "output_type": "stream",
     "text": [
      "Las coordenadas del vertice son : (0.75, -11.6875)\n"
     ]
    }
   ],
   "source": [
    "x = 3/(2*2)\n",
    "y = x**2-3*x-10\n",
    "print(f\"Las coordenadas del vertice son : {x,y}\")"
   ]
  },
  {
   "cell_type": "markdown",
   "metadata": {},
   "source": [
    "#### 3.4. Where does $y_2$ intersect X axis? And Y axis?"
   ]
  },
  {
   "cell_type": "code",
   "execution_count": 17,
   "metadata": {},
   "outputs": [
    {
     "name": "stdout",
     "output_type": "stream",
     "text": [
      "y2 corta al eje y cuando x es igual a 0, por lo que, y2 corta al eje y en: (0,-10)\n"
     ]
    }
   ],
   "source": [
    "x = 0\n",
    "print(f\"y2 corta al eje y cuando x es igual a 0, por lo que, y2 corta al eje y en: (0,{x**2-3*x-10})\")\n",
    "\n",
    "\n"
   ]
  },
  {
   "cell_type": "markdown",
   "metadata": {},
   "source": [
    "#### 3.5. As x gets very big, what happens to $y$ go in each case?"
   ]
  },
  {
   "cell_type": "markdown",
   "metadata": {},
   "source": [
    "Para `y2` cuanto mayor es x mayor es y siempre y cuando nos alejemos del vertice (0.75, -11.6875), si nos acercamos a el y decrece\n",
    "\n",
    "Para `y3` tiene dos vertices, asi que podra aumentar y disminuir hasta que pasemos el segundo vertice.\n",
    "\n",
    "Para `y4`diminuye, aumenta, disminuye y vuelve a aumentar."
   ]
  },
  {
   "cell_type": "markdown",
   "metadata": {},
   "source": [
    "#### 3.6. As x gets very small (big negative), what happens to $y$ go in each case?"
   ]
  },
  {
   "cell_type": "markdown",
   "metadata": {},
   "source": [
    "Para `y2` cuanto menor es x mayor es y siempre y cuando nos alejemos del vertice (0.75, -11.6875), si nos acercamos a el y decrece\n",
    "\n",
    "Para `y3` tiene dos vertices, asi que podra disminuir y  aumentar hasta que pasemos el segundo vertice.\n",
    "\n",
    "Para `y4`diminuye, aumenta, disminuye y vuelve a aumentar."
   ]
  },
  {
   "cell_type": "markdown",
   "metadata": {},
   "source": [
    "### 4. Exponential"
   ]
  },
  {
   "cell_type": "markdown",
   "metadata": {},
   "source": [
    "#### 4.1. Print number $e$ rounded to 3 decimal figures"
   ]
  },
  {
   "cell_type": "code",
   "execution_count": 18,
   "metadata": {},
   "outputs": [
    {
     "name": "stdout",
     "output_type": "stream",
     "text": [
      "2.718\n"
     ]
    }
   ],
   "source": [
    "import math\n",
    "\n",
    "e = round(math.e,3)\n",
    "\n",
    "print(e)"
   ]
  },
  {
   "cell_type": "markdown",
   "metadata": {},
   "source": [
    "#### 4.2. Compute $e$ to the powers 0, 1, 2, 3, 10"
   ]
  },
  {
   "cell_type": "code",
   "execution_count": 19,
   "metadata": {},
   "outputs": [
    {
     "name": "stdout",
     "output_type": "stream",
     "text": [
      "e^0 = 1.0\n",
      "e^1 = 2.72\n",
      "e^2 = 7.39\n",
      "e^3 = 20.08\n",
      "e^10 = 22003.64\n"
     ]
    }
   ],
   "source": [
    "lista = [0, 1, 2, 3, 10]\n",
    "for ele in lista:\n",
    "    print(f\"e^{ele} = {round(e**ele,2)}\")"
   ]
  },
  {
   "cell_type": "markdown",
   "metadata": {},
   "source": [
    "#### 4.3. Compute $e$ to the powers 0, -1, -2, -3, -10"
   ]
  },
  {
   "cell_type": "code",
   "execution_count": 20,
   "metadata": {},
   "outputs": [
    {
     "name": "stdout",
     "output_type": "stream",
     "text": [
      "e^0 = 1.0\n",
      "e^-1 = 0.37\n",
      "e^-2 = 0.14\n",
      "e^-3 = 0.05\n",
      "e^-10 = 0.0\n"
     ]
    }
   ],
   "source": [
    "lista = [0, -1, -2, -3, -10]\n",
    "for ele in lista:\n",
    "    print(f\"e^{ele} = {round(e**ele,2)}\")"
   ]
  },
  {
   "cell_type": "markdown",
   "metadata": {},
   "source": [
    "#### 4.4. Plot functions $e^x$, $e^{2x}$, $e^{-x}$"
   ]
  },
  {
   "cell_type": "markdown",
   "metadata": {},
   "source": [
    "Note: choose an appropiate x-range to visualize them all toguether"
   ]
  },
  {
   "cell_type": "code",
   "execution_count": 21,
   "metadata": {},
   "outputs": [
    {
     "data": {
      "text/plain": [
       "<matplotlib.legend.Legend at 0x7fe0b4c548b0>"
      ]
     },
     "execution_count": 21,
     "metadata": {},
     "output_type": "execute_result"
    },
    {
     "data": {
      "image/png": "[encoded data removed]",
      "text/plain": [
       "<Figure size 432x432 with 1 Axes>"
      ]
     },
     "metadata": {
      "needs_background": "light"
     },
     "output_type": "display_data"
    }
   ],
   "source": [
    "initialize_grid(10,False)\n",
    "\n",
    "x = np.linspace(\n",
    "    start=-10, \n",
    "    stop=10,\n",
    "    num=300\n",
    ")\n",
    "\n",
    "y2=e**x\n",
    "y3=e**(2*x) \n",
    "y4=e**(-x)\n",
    "\n",
    "plt.plot(x, y2, \"-\", label=\"e**x\")\n",
    "plt.plot(x, y3, \"-\", label=\"e**(2*x)\")\n",
    "plt.plot(x, y4, \"-\", label=\"e**(-x)\")\n",
    "\n",
    "plt.legend()"
   ]
  },
  {
   "cell_type": "markdown",
   "metadata": {},
   "source": [
    "### 5. Sum notation"
   ]
  },
  {
   "cell_type": "markdown",
   "metadata": {},
   "source": [
    "Find the following:"
   ]
  },
  {
   "cell_type": "markdown",
   "metadata": {},
   "source": [
    "$$\\sum_{n=4}^7 n$$"
   ]
  },
  {
   "cell_type": "code",
   "execution_count": 23,
   "metadata": {},
   "outputs": [
    {
     "data": {
      "text/plain": [
       "22"
      ]
     },
     "execution_count": 23,
     "metadata": {},
     "output_type": "execute_result"
    }
   ],
   "source": [
    "suma = 0\n",
    "for i in range(4,7+1):\n",
    "    suma += i\n",
    "suma"
   ]
  },
  {
   "cell_type": "markdown",
   "metadata": {},
   "source": [
    "$$\\sum_{n=-2}^3 (n + 1)$$"
   ]
  },
  {
   "cell_type": "code",
   "execution_count": 24,
   "metadata": {},
   "outputs": [
    {
     "data": {
      "text/plain": [
       "9"
      ]
     },
     "execution_count": 24,
     "metadata": {},
     "output_type": "execute_result"
    }
   ],
   "source": [
    "suma = 0\n",
    "for i in range(-2,3+1):\n",
    "    suma += (i+1)\n",
    "suma"
   ]
  },
  {
   "cell_type": "markdown",
   "metadata": {},
   "source": [
    "$$\\sum_{n=-2}^3 (n^2 - 2)$$"
   ]
  },
  {
   "cell_type": "code",
   "execution_count": 27,
   "metadata": {},
   "outputs": [
    {
     "data": {
      "text/plain": [
       "7"
      ]
     },
     "execution_count": 27,
     "metadata": {},
     "output_type": "execute_result"
    }
   ],
   "source": [
    "suma = 0\n",
    "for i in range(-2,3+1):\n",
    "    suma += (i**2)-2\n",
    "suma"
   ]
  },
  {
   "cell_type": "markdown",
   "metadata": {},
   "source": [
    "$$\\sum_{n=0}^4 (10^n - 1)$$"
   ]
  },
  {
   "cell_type": "code",
   "execution_count": 30,
   "metadata": {},
   "outputs": [
    {
     "data": {
      "text/plain": [
       "11106"
      ]
     },
     "execution_count": 30,
     "metadata": {},
     "output_type": "execute_result"
    }
   ],
   "source": [
    "suma = 0\n",
    "for i in range(-0,4+1):\n",
    "    suma += (10**i)-1\n",
    "suma"
   ]
  },
  {
   "cell_type": "markdown",
   "metadata": {},
   "source": [
    "### 6. Combinatorics"
   ]
  },
  {
   "cell_type": "markdown",
   "metadata": {},
   "source": [
    "#### 6.1. Ten people go to a party. How many handshakes happen?"
   ]
  },
  {
   "cell_type": "code",
   "execution_count": 31,
   "metadata": {},
   "outputs": [
    {
     "data": {
      "text/plain": [
       "45.0"
      ]
     },
     "execution_count": 31,
     "metadata": {},
     "output_type": "execute_result"
    }
   ],
   "source": [
    "x = 10\n",
    "hand = x*(x-1)/2\n",
    "hand"
   ]
  },
  {
   "cell_type": "markdown",
   "metadata": {},
   "source": [
    "#### 6.2. My family is composed of 11 members. By christmas, one buys food, one cooks and one cleans. How many possible arrangements of buyer-cooker-cleaner are there?"
   ]
  },
  {
   "cell_type": "code",
   "execution_count": 33,
   "metadata": {},
   "outputs": [
    {
     "data": {
      "text/plain": [
       "990.0"
      ]
     },
     "execution_count": 33,
     "metadata": {},
     "output_type": "execute_result"
    }
   ],
   "source": [
    "m = 11\n",
    "p = 3\n",
    "\n",
    "def factorial(n):\n",
    "    if n == 1:\n",
    "        return 1\n",
    "    else:\n",
    "        return n * factorial(n - 1)\n",
    "    \n",
    "posibil = factorial(m)/factorial(m-p)\n",
    "posibil"
   ]
  },
  {
   "cell_type": "markdown",
   "metadata": {},
   "source": [
    "### BONUS"
   ]
  },
  {
   "cell_type": "markdown",
   "metadata": {},
   "source": [
    "11 and 13 are twin primes, since:\n",
    " - they are both primes  \n",
    " - their distance is 2\n",
    " \n",
    "Find all pairs of twin primes below 1000"
   ]
  },
  {
   "cell_type": "code",
   "execution_count": 58,
   "metadata": {},
   "outputs": [],
   "source": [
    "def primo(num):\n",
    "    for i in range(2,num):\n",
    "        if num % i == 0:\n",
    "            return False\n",
    "    return True\n"
   ]
  },
  {
   "cell_type": "code",
   "execution_count": 68,
   "metadata": {},
   "outputs": [
    {
     "data": {
      "text/plain": [
       "{3,\n",
       " 5,\n",
       " 7,\n",
       " 11,\n",
       " 13,\n",
       " 17,\n",
       " 19,\n",
       " 29,\n",
       " 31,\n",
       " 41,\n",
       " 43,\n",
       " 59,\n",
       " 61,\n",
       " 71,\n",
       " 73,\n",
       " 101,\n",
       " 103,\n",
       " 107,\n",
       " 109,\n",
       " 137,\n",
       " 139,\n",
       " 149,\n",
       " 151,\n",
       " 179,\n",
       " 181,\n",
       " 191,\n",
       " 193,\n",
       " 197,\n",
       " 199,\n",
       " 227,\n",
       " 229,\n",
       " 239,\n",
       " 241,\n",
       " 269,\n",
       " 271,\n",
       " 281,\n",
       " 283,\n",
       " 311,\n",
       " 313,\n",
       " 347,\n",
       " 349,\n",
       " 419,\n",
       " 421,\n",
       " 431,\n",
       " 433,\n",
       " 461,\n",
       " 463,\n",
       " 521,\n",
       " 523,\n",
       " 569,\n",
       " 571,\n",
       " 599,\n",
       " 601,\n",
       " 617,\n",
       " 619,\n",
       " 641,\n",
       " 643,\n",
       " 659,\n",
       " 661,\n",
       " 809,\n",
       " 811,\n",
       " 821,\n",
       " 823,\n",
       " 827,\n",
       " 829,\n",
       " 857,\n",
       " 859,\n",
       " 881,\n",
       " 883}"
      ]
     },
     "execution_count": 68,
     "metadata": {},
     "output_type": "execute_result"
    }
   ],
   "source": [
    "n1= 0\n",
    "n2= 0\n",
    "\n",
    "twins = []\n",
    "\n",
    "for i in range(1,1000):\n",
    "    if primo(i):\n",
    "        n1 = n2\n",
    "        n2 = i\n",
    "        if n2 - n1 == 2:\n",
    "            twins.append(n1)\n",
    "            twins.append(n2)\n",
    "            \n",
    "twins = set(twins)\n",
    "twins"
   ]
  },
  {
   "cell_type": "code",
   "execution_count": 61,
   "metadata": {},
   "outputs": [
    {
     "data": {
      "text/plain": [
       "True"
      ]
     },
     "execution_count": 61,
     "metadata": {},
     "output_type": "execute_result"
    }
   ],
   "source": [
    "primo(617)"
   ]
  },
  {
   "cell_type": "code",
   "execution_count": null,
   "metadata": {},
   "outputs": [],
   "source": [
    "for i in ranfe"
   ]
  }
 ],
 "metadata": {
  "kernelspec": {
   "display_name": "Python 3",
   "language": "python",
   "name": "python3"
  },
  "language_info": {
   "codemirror_mode": {
    "name": "ipython",
    "version": 3
   },
   "file_extension": ".py",
   "mimetype": "text/x-python",
   "name": "python",
   "nbconvert_exporter": "python",
   "pygments_lexer": "ipython3",
   "version": "3.8.5"
  },
  "toc": {
   "base_numbering": 1,
   "nav_menu": {},
   "number_sections": true,
   "sideBar": true,
   "skip_h1_title": false,
   "title_cell": "Table of Contents",
   "title_sidebar": "Contents",
   "toc_cell": false,
   "toc_position": {},
   "toc_section_display": true,
   "toc_window_display": false
  },
  "varInspector": {
   "cols": {
    "lenName": 16,
    "lenType": 16,
    "lenVar": 40
   },
   "kernels_config": {
    "python": {
     "delete_cmd_postfix": "",
     "delete_cmd_prefix": "del ",
     "library": "var_list.py",
     "varRefreshCmd": "print(var_dic_list())"
    },
    "r": {
     "delete_cmd_postfix": ") ",
     "delete_cmd_prefix": "rm(",
     "library": "var_list.r",
     "varRefreshCmd": "cat(var_dic_list()) "
    }
   },
   "types_to_exclude": [
    "module",
    "function",
    "builtin_function_or_method",
    "instance",
    "_Feature"
   ],
   "window_display": false
  }
 },
 "nbformat": 4,
 "nbformat_minor": 4
}
