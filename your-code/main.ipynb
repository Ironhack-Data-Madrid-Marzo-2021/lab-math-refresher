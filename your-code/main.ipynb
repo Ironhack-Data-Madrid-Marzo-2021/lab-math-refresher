{
 "cells": [
  {
   "cell_type": "code",
   "execution_count": 1,
   "metadata": {},
   "outputs": [],
   "source": [
    "import matplotlib.pyplot as plt\n",
    "from math import sqrt as raiz2\n",
    "import numpy as np"
   ]
  },
  {
   "cell_type": "markdown",
   "metadata": {},
   "source": [
    "### 1. Euclidean plane"
   ]
  },
  {
   "cell_type": "markdown",
   "metadata": {},
   "source": [
    "Consider this 3 points on 2D space:  \n",
    "$A=(4, 5)$  \n",
    "$B=(-2, -4)$  \n",
    "$C=(8, -1)$  "
   ]
  },
  {
   "cell_type": "markdown",
   "metadata": {},
   "source": [
    "#### 1.1. Plot them using `matplotlib`  "
   ]
  },
  {
   "cell_type": "code",
   "execution_count": 2,
   "metadata": {},
   "outputs": [
    {
     "data": {
      "text/plain": [
       "<matplotlib.legend.Legend at 0x7f97f7c43970>"
      ]
     },
     "execution_count": 2,
     "metadata": {},
     "output_type": "execute_result"
    },
    {
     "data": {
      "image/png": "[encoded data removed]",
      "text/plain": [
       "<Figure size 432x288 with 1 Axes>"
      ]
     },
     "metadata": {
      "needs_background": "light"
     },
     "output_type": "display_data"
    }
   ],
   "source": [
    "A = (4, 4)\n",
    "B = (-2, -4)\n",
    "C = (8, -1)\n",
    "\n",
    "fig, ax = plt.subplots()\n",
    "\n",
    "plt.plot(A[0], A[1], \"o\", markersize=10, label=\"A\")\n",
    "plt.plot(B[0], B[1], \"o\", markersize=10, label=\"B\")\n",
    "plt.plot(C[0], C[1], \"o\", markersize=10, label=\"C\")\n",
    "\n",
    "ax.set_xlim([-10, 10])\n",
    "ax.set_ylim([-10, 10])\n",
    "\n",
    "plt.legend()"
   ]
  },
  {
   "cell_type": "markdown",
   "metadata": {},
   "source": [
    "#### 1.2. Which distance is longer, $AC, AB, \\text{or} BC$? Write a function that calculates distance between two points."
   ]
  },
  {
   "cell_type": "code",
   "execution_count": 3,
   "metadata": {},
   "outputs": [
    {
     "data": {
      "text/plain": [
       "'AC'"
      ]
     },
     "execution_count": 3,
     "metadata": {},
     "output_type": "execute_result"
    }
   ],
   "source": [
    "def distancia(A,B):\n",
    "    return raiz2((A[0]-B[0])**2+(A[1]-B[1])**2)\n",
    "\n",
    "A = (4, 4)\n",
    "B = (-2, -4)\n",
    "C = (8, -1)\n",
    "distancias = {\"AC\": distancia(A,C), \"AB\":distancia(A,B), \"BC\":distancia(B,C)}\n",
    "min(distancias, key=distancias.get)"
   ]
  },
  {
   "cell_type": "markdown",
   "metadata": {},
   "source": [
    "#### 1.3. What is the perimeter of triangle $ABC$?"
   ]
  },
  {
   "cell_type": "code",
   "execution_count": 4,
   "metadata": {},
   "outputs": [
    {
     "data": {
      "text/plain": [
       "26.84"
      ]
     },
     "execution_count": 4,
     "metadata": {},
     "output_type": "execute_result"
    }
   ],
   "source": [
    "def perimetro_tr(A,B,C):\n",
    "    return round((distancia(A,B) + distancia(B,C) + distancia(C,A)),2)\n",
    "perimetro_tr(A,B,C)"
   ]
  },
  {
   "cell_type": "markdown",
   "metadata": {},
   "source": [
    "### 2. Linear functions"
   ]
  },
  {
   "cell_type": "markdown",
   "metadata": {},
   "source": [
    "Consider the following straight lines on 2D space:  \n",
    "$y_1=2x-3$  \n",
    "$y_2=-3x+12$  "
   ]
  },
  {
   "cell_type": "markdown",
   "metadata": {},
   "source": [
    "#### 2.1. Plot them"
   ]
  },
  {
   "cell_type": "code",
   "execution_count": 5,
   "metadata": {},
   "outputs": [
    {
     "data": {
      "text/plain": [
       "[<matplotlib.lines.Line2D at 0x7f97f7af0a30>]"
      ]
     },
     "execution_count": 5,
     "metadata": {},
     "output_type": "execute_result"
    },
    {
     "data": {
      "image/png": "[encoded data removed]",
      "text/plain": [
       "<Figure size 432x288 with 1 Axes>"
      ]
     },
     "metadata": {
      "needs_background": "light"
     },
     "output_type": "display_data"
    }
   ],
   "source": [
    "x = np.linspace(\n",
    "    start=-10, \n",
    "    stop=10, \n",
    "    num=300\n",
    ")\n",
    "\n",
    "\n",
    "y1 = 2*x - 3\n",
    "y2= -3*x +12\n",
    "\n",
    "plt.plot(x, y1, \"-\")\n",
    "plt.plot(x, y2, \"-\")\n"
   ]
  },
  {
   "cell_type": "markdown",
   "metadata": {},
   "source": [
    "#### 2.2. What are the respective slopes"
   ]
  },
  {
   "cell_type": "code",
   "execution_count": 6,
   "metadata": {},
   "outputs": [
    {
     "name": "stdout",
     "output_type": "stream",
     "text": [
      "Pendiente y1:  2.0\n",
      "Pendiente y2:  -3.0\n"
     ]
    }
   ],
   "source": [
    "\n",
    "x=0\n",
    "y0 = 2*x - 3\n",
    "x=10\n",
    "y10 = 2*x - 3\n",
    "pendiente_y1=(y10-y0)/10\n",
    "\n",
    "\n",
    "x=0\n",
    "y0 =  -3*x +12\n",
    "x=10\n",
    "y10 =  -3*x +12\n",
    "pendiente_y2=(y10-y0)/10\n",
    "\n",
    "print(\"Pendiente y1: \", pendiente_y1)\n",
    "print(\"Pendiente y2: \", pendiente_y2)"
   ]
  },
  {
   "cell_type": "markdown",
   "metadata": {},
   "source": [
    "#### 2.3. Give 3 points through which $y_1$ goes through"
   ]
  },
  {
   "cell_type": "code",
   "execution_count": 7,
   "metadata": {},
   "outputs": [
    {
     "name": "stdout",
     "output_type": "stream",
     "text": [
      "Puntos de la recta:\n",
      "[(1, -1), (2, 1), (3, 3)]\n"
     ]
    }
   ],
   "source": [
    "x=[x for x in range(1,4,1)]\n",
    "y=[2*x - 3 for x in range(1,4,1)]\n",
    "print(\"Puntos de la recta:\")\n",
    "print(list(zip(x,y)))\n"
   ]
  },
  {
   "cell_type": "markdown",
   "metadata": {},
   "source": [
    "#### 2.4. Where do they intersect?"
   ]
  },
  {
   "cell_type": "code",
   "execution_count": 8,
   "metadata": {},
   "outputs": [
    {
     "name": "stdout",
     "output_type": "stream",
     "text": [
      "x= 3 y= 3\n"
     ]
    }
   ],
   "source": [
    "x=[x for x in range(1,4,1)]\n",
    "y1=[2*x - 3 for x in range(1,4,1)]\n",
    "y2=[-3*x +12 for x in range(1,4,1)]\n",
    "pares=zip(x,y1,y2)\n",
    "for x,y1,y2 in pares:\n",
    "    if y1 == y2:\n",
    "        print(\"x=\",x,\"y=\",y1)"
   ]
  },
  {
   "cell_type": "markdown",
   "metadata": {},
   "source": [
    "#### 2.5. BONUS "
   ]
  },
  {
   "cell_type": "markdown",
   "metadata": {},
   "source": [
    "My yearly salary has increased **linearly** with my age:  \n",
    "When I was 21 years old, I did 10000\\\\$ / year    \n",
    "Today I am 39 years old, I am doing 33400\\\\$ / year  \n",
    "How much will I do when I get 50 years old?"
   ]
  },
  {
   "cell_type": "code",
   "execution_count": 9,
   "metadata": {},
   "outputs": [
    {
     "data": {
      "text/plain": [
       "47700"
      ]
     },
     "execution_count": 9,
     "metadata": {},
     "output_type": "execute_result"
    }
   ],
   "source": [
    "\n",
    "m=(33400-10000)/(39-21)\n",
    "n=10000-m*21\n",
    "x=50\n",
    "round(m*x+n)"
   ]
  },
  {
   "cell_type": "markdown",
   "metadata": {},
   "source": [
    "### 3. Polynomials"
   ]
  },
  {
   "cell_type": "markdown",
   "metadata": {},
   "source": [
    "Consider these different degree polynomials:  \n",
    "$y_2=x^2-3x-10$  \n",
    "$y_3=x^3-2x^2+5x+1$  \n",
    "$y_4=x^4-x^3+x^2-x+1$  "
   ]
  },
  {
   "cell_type": "code",
   "execution_count": null,
   "metadata": {},
   "outputs": [],
   "source": []
  },
  {
   "cell_type": "markdown",
   "metadata": {},
   "source": [
    "#### 3.1. Plot them"
   ]
  },
  {
   "cell_type": "code",
   "execution_count": 10,
   "metadata": {},
   "outputs": [
    {
     "data": {
      "text/plain": [
       "[<matplotlib.lines.Line2D at 0x7f97f7a784f0>]"
      ]
     },
     "execution_count": 10,
     "metadata": {},
     "output_type": "execute_result"
    },
    {
     "data": {
      "image/png": "[encoded data removed]",
      "text/plain": [
       "<Figure size 432x432 with 1 Axes>"
      ]
     },
     "metadata": {
      "needs_background": "light"
     },
     "output_type": "display_data"
    }
   ],
   "source": [
    "fig, ax = plt.subplots(figsize=(6, 6))\n",
    "\n",
    "ax.set_xlim([-20, 20])\n",
    "ax.set_ylim([-20, 100])\n",
    "x = np.linspace(start=-20, stop=20, num=100)\n",
    "y2 = x**2 - 3*x -10\n",
    "y3 = x**3 - 2*x**2 + 5*x +1\n",
    "y4 = x**4 - x**3 - x**2 +1\n",
    "\n",
    "\n",
    "plt.plot(x, y2, \"-\")\n",
    "plt.plot(x, y3, \"-\")\n",
    "plt.plot(x, y4, \"-\")"
   ]
  },
  {
   "cell_type": "markdown",
   "metadata": {},
   "source": [
    "#### 3.2. Which one takes a bigger value on $x=0$? On $x=2$? On $x=100$?"
   ]
  },
  {
   "cell_type": "code",
   "execution_count": 34,
   "metadata": {},
   "outputs": [
    {
     "name": "stdout",
     "output_type": "stream",
     "text": [
      "La función con mayor valor en x= 0  y3\n",
      "La función con mayor valor en x= 0  y4\n"
     ]
    }
   ],
   "source": [
    "x=0\n",
    "y2 = x**2 - 3*x -10\n",
    "y3 = x**3 - 2*x**2 + 5*x +1\n",
    "y4 = x**4 - x**3 - x**2 +1\n",
    "nombres=['y2','y3','y4']\n",
    "valores=[y2, y3, y4]\n",
    "max_valor = max(valores)\n",
    "indices = [print(\"La función con mayor valor en x= 0 \",nombres[i]) for i, x in enumerate(valores) if x == max_valor]\n",
    "\n"
   ]
  },
  {
   "cell_type": "code",
   "execution_count": 35,
   "metadata": {
    "scrolled": true
   },
   "outputs": [
    {
     "name": "stdout",
     "output_type": "stream",
     "text": [
      "La función con mayor valor en x= 2 es  y3\n"
     ]
    }
   ],
   "source": [
    "x=2\n",
    "y2 = x**2 - 3*x -10\n",
    "y3 = x**3 - 2*x**2 + 5*x +1\n",
    "y4 = x**4 - x**3 - x**2 +1\n",
    "nombres=['y2','y3','y4']\n",
    "valores=[y2, y3, y4]\n",
    "max_valor = max(valores)\n",
    "indices = [print(\"La función con mayor valor en x= 2 es \",nombres[i]) for i, x in enumerate(valores) if x == max_valor]\n",
    "\n"
   ]
  },
  {
   "cell_type": "code",
   "execution_count": 38,
   "metadata": {},
   "outputs": [
    {
     "name": "stdout",
     "output_type": "stream",
     "text": [
      "La función con mayor valor en x=  100 es y4\n"
     ]
    }
   ],
   "source": [
    "x=100\n",
    "y2 = x**2 - 3*x -10\n",
    "y3 = x**3 - 2*x**2 + 5*x +1\n",
    "y4 = x**4 - x**3 - x**2 +1\n",
    "nombres=['y2','y3','y4']\n",
    "valores=[y2, y3, y4]\n",
    "max_valor = max(valores)\n",
    "indices = [print(\"La función con mayor valor en x=  100 es\",nombres[i]) for i, x in enumerate(valores) if x == max_valor]\n",
    "\n"
   ]
  },
  {
   "cell_type": "markdown",
   "metadata": {},
   "source": [
    "\n",
    "\n",
    "\n",
    "#### 3.3. Who is the vertex of parabola $y_2$?"
   ]
  },
  {
   "cell_type": "code",
   "execution_count": 39,
   "metadata": {},
   "outputs": [
    {
     "name": "stdout",
     "output_type": "stream",
     "text": [
      "El vertex está en x= 1.5  y= -12.25\n"
     ]
    }
   ],
   "source": [
    "#vertex\n",
    "# 0=2*x-3\n",
    "x=3/2\n",
    "y= x**2 - 3*x -10\n",
    "\n",
    "print(\"El vertex está en x=\",x,\" y=\",y)"
   ]
  },
  {
   "cell_type": "markdown",
   "metadata": {},
   "source": [
    "\n",
    "#### 3.4. Where does $y_2$ intersect X axis? And Y axis?"
   ]
  },
  {
   "cell_type": "code",
   "execution_count": 40,
   "metadata": {},
   "outputs": [
    {
     "name": "stdout",
     "output_type": "stream",
     "text": [
      "La parábola x**2 - 3*x -10 corta el eje equis en x1= 5.0  x2= 5.0\n"
     ]
    }
   ],
   "source": [
    "\n",
    "\n",
    "import math\n",
    "y= x**2 - 3*x -10\n",
    "#0= x**2 - 3*x -10\n",
    "a=1\n",
    "b=-3\n",
    "c=-10\n",
    "x1=(-b+math.sqrt(b**2-4*a*c))/(2*a)\n",
    "x2=(-b+math.sqrt(b**2-4*a*c))/(2*a)\n",
    "print(\"La parábola x**2 - 3*x -10 corta el eje equis en x1=\",x1,\" x2=\",x2 )"
   ]
  },
  {
   "cell_type": "code",
   "execution_count": 43,
   "metadata": {},
   "outputs": [
    {
     "name": "stdout",
     "output_type": "stream",
     "text": [
      "La parábola x**2 - 3*x -10 corta el eje y en y= -10\n"
     ]
    }
   ],
   "source": [
    "x=0\n",
    "y= x**2 - 3*x -10\n",
    "#0= x**2 - 3*x -10\n",
    "\n",
    "print(\"La parábola x**2 - 3*x -10 corta el eje y en y=\",y )"
   ]
  },
  {
   "cell_type": "markdown",
   "metadata": {},
   "source": [
    "#### 3.5. As x gets very big, what happens to $y$ go in each case?"
   ]
  },
  {
   "cell_type": "code",
   "execution_count": 44,
   "metadata": {},
   "outputs": [
    {
     "name": "stdout",
     "output_type": "stream",
     "text": [
      "'y' tiende a infinito cuando x tiende a +infiito\n"
     ]
    }
   ],
   "source": [
    "x = float('inf')\n",
    "\n",
    "y= x**2 - 3*x -10\n",
    "\n",
    "print(\"'y' tiende a infinito cuando x tiende a +infiito\")"
   ]
  },
  {
   "cell_type": "code",
   "execution_count": null,
   "metadata": {},
   "outputs": [],
   "source": [
    "x = 99999999999\n",
    "\n",
    "y= x**2 - 3*x -10\n",
    "y"
   ]
  },
  {
   "cell_type": "markdown",
   "metadata": {},
   "source": [
    "#### 3.6. As x gets very small (big negative), what happens to $y$ go in each case?"
   ]
  },
  {
   "cell_type": "code",
   "execution_count": null,
   "metadata": {},
   "outputs": [],
   "source": [
    "x = float('inf')\n",
    "xn=-x\n",
    "y2= xn**2 + 3*xn -10\n",
    "\n",
    "print(\"'y2' tiende a infinito cuando xn tiende a infiito, luego y tienede a +infinito\")"
   ]
  },
  {
   "cell_type": "code",
   "execution_count": null,
   "metadata": {},
   "outputs": [],
   "source": [
    "x = -99999999999\n",
    "\n",
    "y= x**2 - 3*x -10\n",
    "y"
   ]
  },
  {
   "cell_type": "markdown",
   "metadata": {},
   "source": [
    "### 4. Exponential"
   ]
  },
  {
   "cell_type": "markdown",
   "metadata": {},
   "source": [
    "#### 4.1. Print number $e$ rounded to 3 decimal figures"
   ]
  },
  {
   "cell_type": "code",
   "execution_count": null,
   "metadata": {},
   "outputs": [],
   "source": [
    "import math\n",
    "exponent = 1\n",
    "print( \"El valor de 'e' es: \", round(math.exp(exponent),3))"
   ]
  },
  {
   "cell_type": "markdown",
   "metadata": {},
   "source": [
    "#### 4.2. Compute $e$ to the powers 0, 1, 2, 3, 10"
   ]
  },
  {
   "cell_type": "code",
   "execution_count": null,
   "metadata": {},
   "outputs": [],
   "source": [
    "exponente =range(0,4)\n",
    "e_elev=[(exp,round(math.exp(exp),3)) for exp in exponente]\n",
    "e_elev\n"
   ]
  },
  {
   "cell_type": "markdown",
   "metadata": {},
   "source": [
    "#### 4.3. Compute $e$ to the powers 0, -1, -2, -3, -10"
   ]
  },
  {
   "cell_type": "code",
   "execution_count": null,
   "metadata": {},
   "outputs": [],
   "source": [
    "exponente =range(0,-4,-1)\n",
    "e_elev=[(exp,round(math.exp(exp),3)) for exp in exponente]\n",
    "e_elev"
   ]
  },
  {
   "cell_type": "markdown",
   "metadata": {},
   "source": [
    "#### 4.4. Plot functions $e^x$, $e^{2x}$, $e^{-x}$"
   ]
  },
  {
   "cell_type": "markdown",
   "metadata": {},
   "source": [
    "Note: choose an appropiate x-range to visualize them all toguether"
   ]
  },
  {
   "cell_type": "code",
   "execution_count": null,
   "metadata": {},
   "outputs": [],
   "source": []
  },
  {
   "cell_type": "markdown",
   "metadata": {},
   "source": [
    "### 5. Sum notation"
   ]
  },
  {
   "cell_type": "markdown",
   "metadata": {},
   "source": [
    "Find the following:"
   ]
  },
  {
   "cell_type": "markdown",
   "metadata": {},
   "source": [
    "$$\\sum_{n=4}^7 n$$"
   ]
  },
  {
   "cell_type": "code",
   "execution_count": 16,
   "metadata": {},
   "outputs": [
    {
     "data": {
      "text/plain": [
       "22"
      ]
     },
     "execution_count": 16,
     "metadata": {},
     "output_type": "execute_result"
    }
   ],
   "source": [
    "\n",
    "sum([n for n in range(4,8) ])"
   ]
  },
  {
   "cell_type": "markdown",
   "metadata": {},
   "source": [
    "$$\\sum_{n=-2}^3 (n + 1)$$"
   ]
  },
  {
   "cell_type": "code",
   "execution_count": 17,
   "metadata": {},
   "outputs": [
    {
     "data": {
      "text/plain": [
       "9"
      ]
     },
     "execution_count": 17,
     "metadata": {},
     "output_type": "execute_result"
    }
   ],
   "source": [
    "sum([n+1 for n in range(-2,4) ])"
   ]
  },
  {
   "cell_type": "markdown",
   "metadata": {},
   "source": [
    "$$\\sum_{n=-2}^3 (n^2 - 2)$$"
   ]
  },
  {
   "cell_type": "code",
   "execution_count": 21,
   "metadata": {},
   "outputs": [
    {
     "data": {
      "text/plain": [
       "7"
      ]
     },
     "execution_count": 21,
     "metadata": {},
     "output_type": "execute_result"
    }
   ],
   "source": [
    "sum([(n**2)-2 for n in range(-2,4) ])"
   ]
  },
  {
   "cell_type": "markdown",
   "metadata": {},
   "source": [
    "$$\\sum_{n=0}^4 (10^n - 1)$$"
   ]
  },
  {
   "cell_type": "code",
   "execution_count": 19,
   "metadata": {},
   "outputs": [
    {
     "data": {
      "text/plain": [
       "11106"
      ]
     },
     "execution_count": 19,
     "metadata": {},
     "output_type": "execute_result"
    }
   ],
   "source": [
    "sum([10**n -1 for n in range(0,5) ])"
   ]
  },
  {
   "cell_type": "markdown",
   "metadata": {},
   "source": [
    "### 6. Combinatorics"
   ]
  },
  {
   "cell_type": "markdown",
   "metadata": {},
   "source": [
    "#### 6.1. Ten people go to a party. How many handshakes happen?"
   ]
  },
  {
   "cell_type": "code",
   "execution_count": 22,
   "metadata": {},
   "outputs": [
    {
     "name": "stdout",
     "output_type": "stream",
     "text": [
      "Apretones totales:  45\n"
     ]
    }
   ],
   "source": [
    "def factorial(n):\n",
    "    if n==0:\n",
    "        return 1\n",
    "    else:\n",
    "        return n*factorial(n-1)\n",
    "    \n",
    "def combi(n,k):\n",
    "    return(factorial(n)/(factorial(k)*factorial(n-k)))\n",
    "\n",
    "apretones=combi(10,2)\n",
    "print(\"Apretones totales: \",round(apretones))"
   ]
  },
  {
   "cell_type": "markdown",
   "metadata": {},
   "source": [
    "#### 6.2. My family is composed of 11 members. By christmas, one buys food, one cooks and one cleans. How many possible arrangements of buyer-cooker-cleaner are there?"
   ]
  },
  {
   "cell_type": "code",
   "execution_count": null,
   "metadata": {},
   "outputs": [],
   "source": [
    "def permu(n,k):\n",
    "    return factorial(n)/factorial(n-k)\n",
    "           \n",
    "opciones_navidad=permu(11,3)\n",
    "print(\"Opciones totales: \",round(opciones_navidad))"
   ]
  },
  {
   "cell_type": "markdown",
   "metadata": {},
   "source": [
    "### BONUS"
   ]
  },
  {
   "cell_type": "markdown",
   "metadata": {},
   "source": [
    "11 and 13 are twin primes, since:\n",
    " - they are both primes  \n",
    " - their distance is 2\n",
    " \n",
    "Find all pairs of twin primes below 1000"
   ]
  },
  {
   "cell_type": "code",
   "execution_count": null,
   "metadata": {},
   "outputs": [],
   "source": [
    "from math import sqrt\n",
    "from math import floor\n",
    "from functools import reduce\n",
    "#calcula los primeros n primos usando el método de erastófenes\n",
    "\n",
    "\n",
    "#FUNCIONES\n",
    "def sacar_primero_no_marcado(lista,num):\n",
    "    l=lista[num:]\n",
    "    \n",
    "    for i,elemento in enumerate(lista):\n",
    "        if not elemento:\n",
    "            return i+num\n",
    "    return i\n",
    "\n",
    "def tachar_multiplos(lista,num):\n",
    "    ultimo = len(lista) - 1\n",
    "    i = 2\n",
    "    multiplo = num * i\n",
    "    \n",
    "    while multiplo <= ultimo:\n",
    "        lista[multiplo] = False\n",
    "        i += 1\n",
    "        multiplo = num * i        \n",
    "    return lista\n",
    "\n",
    "def crear_lista(num):\n",
    "    return [False if i<2 else True for i in range(0,num+1) ]\n",
    "  \n",
    "    \n",
    "# LOS \"NUM\" PRIMEROS PRIMEROS USANDO MÉTODO ERASTÓFENES\n",
    "def erastofenes(num):\n",
    "    lista = crear_lista(num)\n",
    "    \n",
    "    primero_no_marca = sacar_primero_no_marcado(lista,2)\n",
    "    cuadrado = primero_no_marca ** 2\n",
    "    ultimo = len(lista) - 1\n",
    "    \n",
    "    while cuadrado <= ultimo:\n",
    "        tachar_multiplos(lista,primero_no_marca)\n",
    "        primero_no_marca = sacar_primero_no_marcado(lista,primero_no_marca+1)\n",
    "        cuadrado = primero_no_marca ** 2    \n",
    "        \n",
    "    primos = [x  for x in range(len(lista)-1) if lista[x]]\n",
    "    return primos\n",
    "\n",
    "\n",
    "# BUSCA PRIMOS\n",
    "def es_primo(num):\n",
    "    raiz_cuadrada_con_decimales = sqrt(num)           #no encontraba la raiz exacta y el radicando\n",
    "    raiz_cuadrada = floor(raiz_cuadrada_con_decimales)\n",
    "\n",
    "    if raiz_cuadrada == raiz_cuadrada_con_decimales:\n",
    "        return False\n",
    "    \n",
    "    else:\n",
    "        primos = erastofenes(raiz_cuadrada)\n",
    "        \n",
    "        for num_primo in primos:\n",
    "            if num % num_primo == 0:\n",
    "                return False\n",
    "        return True\n",
    "\n",
    "    \n",
    "primos=erastofenes(100000)    \n",
    "\n",
    "primos_mas_dos=list(map(lambda x: x+ 2,primos))\n",
    "gemelos=[(x-2 , x) for x in primos_mas_dos if x in primos]\n",
    "print(gemelos)"
   ]
  },
  {
   "cell_type": "code",
   "execution_count": null,
   "metadata": {},
   "outputs": [],
   "source": []
  }
 ],
 "metadata": {
  "kernelspec": {
   "display_name": "Python 3",
   "language": "python",
   "name": "python3"
  },
  "language_info": {
   "codemirror_mode": {
    "name": "ipython",
    "version": 3
   },
   "file_extension": ".py",
   "mimetype": "text/x-python",
   "name": "python",
   "nbconvert_exporter": "python",
   "pygments_lexer": "ipython3",
   "version": "3.8.5"
  },
  "toc": {
   "base_numbering": 1,
   "nav_menu": {},
   "number_sections": true,
   "sideBar": true,
   "skip_h1_title": false,
   "title_cell": "Table of Contents",
   "title_sidebar": "Contents",
   "toc_cell": false,
   "toc_position": {},
   "toc_section_display": true,
   "toc_window_display": false
  },
  "varInspector": {
   "cols": {
    "lenName": 16,
    "lenType": 16,
    "lenVar": 40
   },
   "kernels_config": {
    "python": {
     "delete_cmd_postfix": "",
     "delete_cmd_prefix": "del ",
     "library": "var_list.py",
     "varRefreshCmd": "print(var_dic_list())"
    },
    "r": {
     "delete_cmd_postfix": ") ",
     "delete_cmd_prefix": "rm(",
     "library": "var_list.r",
     "varRefreshCmd": "cat(var_dic_list()) "
    }
   },
   "types_to_exclude": [
    "module",
    "function",
    "builtin_function_or_method",
    "instance",
    "_Feature"
   ],
   "window_display": false
  }
 },
 "nbformat": 4,
 "nbformat_minor": 4
}
