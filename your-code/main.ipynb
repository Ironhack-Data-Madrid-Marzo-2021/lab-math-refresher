{
 "cells": [
  {
   "cell_type": "code",
   "execution_count": 1,
   "metadata": {},
   "outputs": [],
   "source": [
    "import matplotlib.pyplot as plt\n",
    "from math import sqrt as raiz2\n",
    "import numpy as np"
   ]
  },
  {
   "cell_type": "markdown",
   "metadata": {},
   "source": [
    "### 1. Euclidean plane"
   ]
  },
  {
   "cell_type": "markdown",
   "metadata": {},
   "source": [
    "Consider this 3 points on 2D space:  \n",
    "$A=(4, 5)$  \n",
    "$B=(-2, -4)$  \n",
    "$C=(8, -1)$  "
   ]
  },
  {
   "cell_type": "markdown",
   "metadata": {},
   "source": [
    "#### 1.1. Plot them using `matplotlib`  "
   ]
  },
  {
   "cell_type": "code",
   "execution_count": 2,
   "metadata": {},
   "outputs": [
    {
     "data": {
      "text/plain": [
       "<matplotlib.legend.Legend at 0x7fbef5af6a30>"
      ]
     },
     "execution_count": 2,
     "metadata": {},
     "output_type": "execute_result"
    },
    {
     "data": {
      "image/png": "[encoded data removed]",
      "text/plain": [
       "<Figure size 432x288 with 1 Axes>"
      ]
     },
     "metadata": {
      "needs_background": "light"
     },
     "output_type": "display_data"
    }
   ],
   "source": [
    "A = (4, 4)\n",
    "B = (-2, -4)\n",
    "C = (8, -1)\n",
    "\n",
    "fig, ax = plt.subplots()\n",
    "\n",
    "plt.plot(A[0], A[1], \"o\", markersize=10, label=\"A\")\n",
    "plt.plot(B[0], B[1], \"o\", markersize=10, label=\"B\")\n",
    "plt.plot(C[0], C[1], \"o\", markersize=10, label=\"C\")\n",
    "\n",
    "ax.set_xlim([-10, 10])\n",
    "ax.set_ylim([-10, 10])\n",
    "\n",
    "plt.legend()"
   ]
  },
  {
   "cell_type": "markdown",
   "metadata": {},
   "source": [
    "#### 1.2. Which distance is longer, $AC, AB, \\text{or} BC$? Write a function that calculates distance between two points."
   ]
  },
  {
   "cell_type": "code",
   "execution_count": 3,
   "metadata": {},
   "outputs": [
    {
     "data": {
      "text/plain": [
       "'AC'"
      ]
     },
     "execution_count": 3,
     "metadata": {},
     "output_type": "execute_result"
    }
   ],
   "source": [
    "def distancia(A,B):\n",
    "    return raiz2((A[0]-B[0])**2+(A[1]-B[1])**2)\n",
    "\n",
    "A = (4, 4)\n",
    "B = (-2, -4)\n",
    "C = (8, -1)\n",
    "distancias = {\"AC\": distancia(A,C), \"AB\":distancia(A,B), \"BC\":distancia(B,C)}\n",
    "min(distancias, key=distancias.get)"
   ]
  },
  {
   "cell_type": "markdown",
   "metadata": {},
   "source": [
    "#### 1.3. What is the perimeter of triangle $ABC$?"
   ]
  },
  {
   "cell_type": "code",
   "execution_count": 4,
   "metadata": {},
   "outputs": [
    {
     "data": {
      "text/plain": [
       "26.84"
      ]
     },
     "execution_count": 4,
     "metadata": {},
     "output_type": "execute_result"
    }
   ],
   "source": [
    "def perimetro_tr(A,B,C):\n",
    "    return round((distancia(A,B) + distancia(B,C) + distancia(C,A)),2)\n",
    "perimetro_tr(A,B,C)"
   ]
  },
  {
   "cell_type": "markdown",
   "metadata": {},
   "source": [
    "### 2. Linear functions"
   ]
  },
  {
   "cell_type": "markdown",
   "metadata": {},
   "source": [
    "Consider the following straight lines on 2D space:  \n",
    "$y_1=2x-3$  \n",
    "$y_2=-3x+12$  "
   ]
  },
  {
   "cell_type": "markdown",
   "metadata": {},
   "source": [
    "#### 2.1. Plot them"
   ]
  },
  {
   "cell_type": "code",
   "execution_count": 5,
   "metadata": {},
   "outputs": [],
   "source": [
    "x = np.linspace(\n",
    "    start=-10, \n",
    "    stop=10, \n",
    "    num=300\n",
    ")\n"
   ]
  },
  {
   "cell_type": "code",
   "execution_count": 14,
   "metadata": {},
   "outputs": [],
   "source": [
    "y1 = 2*x - 3\n",
    "y2= -3*x +12"
   ]
  },
  {
   "cell_type": "code",
   "execution_count": 15,
   "metadata": {},
   "outputs": [
    {
     "data": {
      "text/plain": [
       "[<matplotlib.lines.Line2D at 0x7fbef5750370>]"
      ]
     },
     "execution_count": 15,
     "metadata": {},
     "output_type": "execute_result"
    },
    {
     "data": {
      "image/png": "[encoded data removed]",
      "text/plain": [
       "<Figure size 432x288 with 1 Axes>"
      ]
     },
     "metadata": {
      "needs_background": "light"
     },
     "output_type": "display_data"
    }
   ],
   "source": [
    "plt.plot(x, y1, \"-\")\n",
    "plt.plot(x, y2, \"-\")\n"
   ]
  },
  {
   "cell_type": "markdown",
   "metadata": {},
   "source": [
    "#### 2.2. What are the respective slopes"
   ]
  },
  {
   "cell_type": "code",
   "execution_count": 9,
   "metadata": {},
   "outputs": [
    {
     "name": "stdout",
     "output_type": "stream",
     "text": [
      "Pendiente y1:  2.0\n",
      "Pendiente y2:  -3.0\n"
     ]
    }
   ],
   "source": [
    "\n",
    "x=0\n",
    "y0 = 2*x - 3\n",
    "x=10\n",
    "y10 = 2*x - 3\n",
    "pendiente_y1=(y10-y0)/10\n",
    "\n",
    "\n",
    "x=0\n",
    "y0 =  -3*x +12\n",
    "x=10\n",
    "y10 =  -3*x +12\n",
    "pendiente_y2=(y10-y0)/10\n",
    "\n",
    "print(\"Pendiente y1: \", pendiente_y1)\n",
    "print(\"Pendiente y2: \", pendiente_y2)"
   ]
  },
  {
   "cell_type": "code",
   "execution_count": null,
   "metadata": {},
   "outputs": [],
   "source": []
  },
  {
   "cell_type": "markdown",
   "metadata": {},
   "source": [
    "#### 2.3. Give 3 points through which $y_1$ goes through"
   ]
  },
  {
   "cell_type": "code",
   "execution_count": 10,
   "metadata": {},
   "outputs": [
    {
     "name": "stdout",
     "output_type": "stream",
     "text": [
      "Puntos de la recta:\n",
      "[(1, -1), (2, 1), (3, 3)]\n"
     ]
    }
   ],
   "source": [
    "x=[x for x in range(1,4,1)]\n",
    "y=[2*x - 3 for x in range(1,4,1)]\n",
    "print(\"Puntos de la recta:\")\n",
    "print(list(zip(x,y)))\n"
   ]
  },
  {
   "cell_type": "markdown",
   "metadata": {},
   "source": [
    "#### 2.4. Where do they intersect?"
   ]
  },
  {
   "cell_type": "code",
   "execution_count": 27,
   "metadata": {},
   "outputs": [
    {
     "name": "stdout",
     "output_type": "stream",
     "text": [
      "x= 3 y= 3\n"
     ]
    }
   ],
   "source": [
    "x=[x for x in range(1,4,1)]\n",
    "y1=[2*x - 3 for x in range(1,4,1)]\n",
    "y2=[-3*x +12 for x in range(1,4,1)]\n",
    "pares=zip(x,y1,y2)\n",
    "for x,y1,y2 in pares:\n",
    "    if y1 == y2:\n",
    "        print(\"x=\",x,\"y=\",y1)"
   ]
  },
  {
   "cell_type": "markdown",
   "metadata": {},
   "source": [
    "#### 2.5. BONUS "
   ]
  },
  {
   "cell_type": "markdown",
   "metadata": {},
   "source": [
    "My yearly salary has increased **linearly** with my age:  \n",
    "When I was 21 years old, I did 10000\\\\$ / year    \n",
    "Today I am 39 years old, I am doing 33400\\\\$ / year  \n",
    "How much will I do when I get 50 years old?"
   ]
  },
  {
   "cell_type": "code",
   "execution_count": 28,
   "metadata": {},
   "outputs": [
    {
     "data": {
      "text/plain": [
       "47700"
      ]
     },
     "execution_count": 28,
     "metadata": {},
     "output_type": "execute_result"
    }
   ],
   "source": [
    "\n",
    "m=(33400-10000)/(39-21)\n",
    "n=10000-m*21\n",
    "x=50\n",
    "round(m*x+n)"
   ]
  },
  {
   "cell_type": "markdown",
   "metadata": {},
   "source": [
    "### 3. Polynomials"
   ]
  },
  {
   "cell_type": "markdown",
   "metadata": {},
   "source": [
    "Consider these different degree polynomials:  \n",
    "$y_2=x^2-3x-10$  \n",
    "$y_3=x^3-2x^2+5x+1$  \n",
    "$y_4=x^4-x^3+x^2-x+1$  "
   ]
  },
  {
   "cell_type": "code",
   "execution_count": null,
   "metadata": {},
   "outputs": [],
   "source": []
  },
  {
   "cell_type": "markdown",
   "metadata": {},
   "source": [
    "#### 3.1. Plot them"
   ]
  },
  {
   "cell_type": "code",
   "execution_count": 29,
   "metadata": {},
   "outputs": [
    {
     "data": {
      "text/plain": [
       "[<matplotlib.lines.Line2D at 0x7fbef552c3a0>]"
      ]
     },
     "execution_count": 29,
     "metadata": {},
     "output_type": "execute_result"
    },
    {
     "data": {
      "image/png": "[encoded data removed]",
      "text/plain": [
       "<Figure size 432x432 with 1 Axes>"
      ]
     },
     "metadata": {
      "needs_background": "light"
     },
     "output_type": "display_data"
    }
   ],
   "source": [
    "fig, ax = plt.subplots(figsize=(6, 6))\n",
    "\"\"\"\n",
    "ticks = np.arange(-10, 100, 0.1)\n",
    "\n",
    "\n",
    "ax.set_xticks(ticks)\n",
    "ax.set_yticks(ticks)\n",
    "ax.grid(True, which='both')\n",
    "\n",
    "ax.set_aspect('equal')\n",
    "\"\"\"\n",
    "ax.set_xlim([-20, 20])\n",
    "ax.set_ylim([-20, 100])\n",
    "x = np.linspace(start=-20, stop=20, num=100)\n",
    "y2 = x**2 - 3*x -10\n",
    "y3 = x**3 - 2*x**2 + 5*x +1\n",
    "y4 = x**4 - x**3 - x**2 +1\n",
    "\n",
    "\n",
    "plt.plot(x, y2, \"-\")\n",
    "plt.plot(x, y3, \"-\")\n",
    "plt.plot(x, y4, \"-\")"
   ]
  },
  {
   "cell_type": "markdown",
   "metadata": {},
   "source": [
    "#### 3.2. Which one takes a bigger value on $x=0$? On $x=2$? On $x=100$?"
   ]
  },
  {
   "cell_type": "code",
   "execution_count": 30,
   "metadata": {},
   "outputs": [
    {
     "name": "stdout",
     "output_type": "stream",
     "text": [
      "La función con mayor valor en x= 1  es  y3\n",
      "La función con mayor valor en x= 1  es  y4\n"
     ]
    }
   ],
   "source": [
    "x=0\n",
    "y2 = x**2 - 3*x -10\n",
    "y3 = x**3 - 2*x**2 + 5*x +1\n",
    "y4 = x**4 - x**3 - x**2 +1\n",
    "nombres=['y2','y3','y4']\n",
    "valores=[y2, y3, y4]\n",
    "max_valor = max(valores)\n",
    "indices = [print(\"La función con mayor valor en x=\",x,\" es \",nombres[i]) for i, x in enumerate(valores) if x == max_valor]\n",
    "\n"
   ]
  },
  {
   "cell_type": "code",
   "execution_count": null,
   "metadata": {},
   "outputs": [],
   "source": []
  },
  {
   "cell_type": "code",
   "execution_count": 31,
   "metadata": {
    "scrolled": true
   },
   "outputs": [
    {
     "name": "stdout",
     "output_type": "stream",
     "text": [
      "La función con mayor valor en x= 11  es  y3\n"
     ]
    }
   ],
   "source": [
    "x=2\n",
    "y2 = x**2 - 3*x -10\n",
    "y3 = x**3 - 2*x**2 + 5*x +1\n",
    "y4 = x**4 - x**3 - x**2 +1\n",
    "nombres=['y2','y3','y4']\n",
    "valores=[y2, y3, y4]\n",
    "max_valor = max(valores)\n",
    "indices = [print(\"La función con mayor valor en x=\",x,\" es \",nombres[i]) for i, x in enumerate(valores) if x == max_valor]\n",
    "\n"
   ]
  },
  {
   "cell_type": "code",
   "execution_count": 32,
   "metadata": {},
   "outputs": [
    {
     "name": "stdout",
     "output_type": "stream",
     "text": [
      "La función con mayor valor en x= 98990001  es  y4\n"
     ]
    }
   ],
   "source": [
    "x=100\n",
    "y2 = x**2 - 3*x -10\n",
    "y3 = x**3 - 2*x**2 + 5*x +1\n",
    "y4 = x**4 - x**3 - x**2 +1\n",
    "nombres=['y2','y3','y4']\n",
    "valores=[y2, y3, y4]\n",
    "max_valor = max(valores)\n",
    "indices = [print(\"La función con mayor valor en x=\",x,\" es \",nombres[i]) for i, x in enumerate(valores) if x == max_valor]\n",
    "\n"
   ]
  },
  {
   "cell_type": "markdown",
   "metadata": {},
   "source": [
    "#### 3.3. Who is the vertex of parabola $y_2$?"
   ]
  },
  {
   "cell_type": "code",
   "execution_count": 33,
   "metadata": {},
   "outputs": [
    {
     "name": "stdout",
     "output_type": "stream",
     "text": [
      "El vertex está en x= 1.5  y= 9690\n"
     ]
    }
   ],
   "source": [
    "y= x**2 - 3*x -10\n",
    "#vertex\n",
    "# 0=2*x-3\n",
    "x=3/2\n",
    "print(\"El vertex está en x=\",x,\" y=\",y)"
   ]
  },
  {
   "cell_type": "markdown",
   "metadata": {},
   "source": [
    "#### 3.4. Where does $y_2$ intersect X axis? And Y axis?"
   ]
  },
  {
   "cell_type": "code",
   "execution_count": 34,
   "metadata": {},
   "outputs": [
    {
     "name": "stdout",
     "output_type": "stream",
     "text": [
      "La parábola x**2 - 3*x -10 corta el eje equis en x1= 5.0  x2= 5.0\n"
     ]
    }
   ],
   "source": [
    "\n",
    "\n",
    "import math\n",
    "y= x**2 - 3*x -10\n",
    "#0= x**2 - 3*x -10\n",
    "a=1\n",
    "b=-3\n",
    "c=-10\n",
    "x1=(-b+math.sqrt(b**2-4*a*c))/(2*a)\n",
    "x2=(-b+math.sqrt(b**2-4*a*c))/(2*a)\n",
    "print(\"La parábola x**2 - 3*x -10 corta el eje equis en x1=\",x1,\" x2=\",x2 )"
   ]
  },
  {
   "cell_type": "code",
   "execution_count": 35,
   "metadata": {},
   "outputs": [
    {
     "name": "stdout",
     "output_type": "stream",
     "text": [
      "La parábola x**2 - 3*x -10 corta el eje y en y= -12.25\n"
     ]
    }
   ],
   "source": [
    "y= x**2 - 3*x -10\n",
    "#0= x**2 - 3*x -10\n",
    "x=0\n",
    "print(\"La parábola x**2 - 3*x -10 corta el eje y en y=\",y )"
   ]
  },
  {
   "cell_type": "markdown",
   "metadata": {},
   "source": [
    "#### 3.5. As x gets very big, what happens to $y$ go in each case?"
   ]
  },
  {
   "cell_type": "code",
   "execution_count": 36,
   "metadata": {},
   "outputs": [
    {
     "name": "stdout",
     "output_type": "stream",
     "text": [
      "'y' tiende a infinito cuando x tiende a +infiito\n"
     ]
    }
   ],
   "source": [
    "x = float('inf')\n",
    "\n",
    "y= x**2 - 3*x -10\n",
    "\n",
    "print(\"'y' tiende a infinito cuando x tiende a +infiito\")"
   ]
  },
  {
   "cell_type": "code",
   "execution_count": 44,
   "metadata": {},
   "outputs": [
    {
     "data": {
      "text/plain": [
       "9999999999499999999994"
      ]
     },
     "execution_count": 44,
     "metadata": {},
     "output_type": "execute_result"
    }
   ],
   "source": [
    "x = 99999999999\n",
    "\n",
    "y= x**2 - 3*x -10\n",
    "y"
   ]
  },
  {
   "cell_type": "markdown",
   "metadata": {},
   "source": [
    "#### 3.6. As x gets very small (big negative), what happens to $y$ go in each case?"
   ]
  },
  {
   "cell_type": "code",
   "execution_count": 37,
   "metadata": {},
   "outputs": [
    {
     "name": "stdout",
     "output_type": "stream",
     "text": [
      "'y2' tiende a infinito cuando xn tiende a infiito, luego y tienede a +infinito\n"
     ]
    }
   ],
   "source": [
    "x = float('inf')\n",
    "xn=-x\n",
    "y2= xn**2 + 3*xn -10\n",
    "\n",
    "print(\"'y2' tiende a infinito cuando xn tiende a infiito, luego y tienede a +infinito\")"
   ]
  },
  {
   "cell_type": "code",
   "execution_count": 45,
   "metadata": {},
   "outputs": [
    {
     "data": {
      "text/plain": [
       "10000000000099999999988"
      ]
     },
     "execution_count": 45,
     "metadata": {},
     "output_type": "execute_result"
    }
   ],
   "source": [
    "x = -99999999999\n",
    "\n",
    "y= x**2 - 3*x -10\n",
    "y"
   ]
  },
  {
   "cell_type": "markdown",
   "metadata": {},
   "source": [
    "### 4. Exponential"
   ]
  },
  {
   "cell_type": "markdown",
   "metadata": {},
   "source": [
    "#### 4.1. Print number $e$ rounded to 3 decimal figures"
   ]
  },
  {
   "cell_type": "code",
   "execution_count": 46,
   "metadata": {},
   "outputs": [
    {
     "name": "stdout",
     "output_type": "stream",
     "text": [
      "El valor de 'e' es:  2.718\n"
     ]
    }
   ],
   "source": [
    "import math\n",
    "exponent = 1\n",
    "print( \"El valor de 'e' es: \", round(math.exp(exponent),3))"
   ]
  },
  {
   "cell_type": "markdown",
   "metadata": {},
   "source": [
    "#### 4.2. Compute $e$ to the powers 0, 1, 2, 3, 10"
   ]
  },
  {
   "cell_type": "code",
   "execution_count": 47,
   "metadata": {},
   "outputs": [
    {
     "data": {
      "text/plain": [
       "[(0, 1.0), (1, 2.718), (2, 7.389), (3, 20.086)]"
      ]
     },
     "execution_count": 47,
     "metadata": {},
     "output_type": "execute_result"
    }
   ],
   "source": [
    "exponente =range(0,4)\n",
    "e_elev=[(exp,round(math.exp(exp),3)) for exp in exponente]\n",
    "e_elev\n"
   ]
  },
  {
   "cell_type": "markdown",
   "metadata": {},
   "source": [
    "#### 4.3. Compute $e$ to the powers 0, -1, -2, -3, -10"
   ]
  },
  {
   "cell_type": "code",
   "execution_count": 48,
   "metadata": {},
   "outputs": [
    {
     "data": {
      "text/plain": [
       "[(0, 1.0), (-1, 0.368), (-2, 0.135), (-3, 0.05)]"
      ]
     },
     "execution_count": 48,
     "metadata": {},
     "output_type": "execute_result"
    }
   ],
   "source": [
    "exponente =range(0,-4,-1)\n",
    "e_elev=[(exp,round(math.exp(exp),3)) for exp in exponente]\n",
    "e_elev"
   ]
  },
  {
   "cell_type": "markdown",
   "metadata": {},
   "source": [
    "#### 4.4. Plot functions $e^x$, $e^{2x}$, $e^{-x}$"
   ]
  },
  {
   "cell_type": "markdown",
   "metadata": {},
   "source": [
    "Note: choose an appropiate x-range to visualize them all toguether"
   ]
  },
  {
   "cell_type": "code",
   "execution_count": null,
   "metadata": {},
   "outputs": [],
   "source": []
  },
  {
   "cell_type": "markdown",
   "metadata": {},
   "source": [
    "### 5. Sum notation"
   ]
  },
  {
   "cell_type": "markdown",
   "metadata": {},
   "source": [
    "Find the following:"
   ]
  },
  {
   "cell_type": "markdown",
   "metadata": {},
   "source": [
    "$$\\sum_{n=4}^7 n$$"
   ]
  },
  {
   "cell_type": "code",
   "execution_count": 49,
   "metadata": {},
   "outputs": [
    {
     "data": {
      "text/plain": [
       "22"
      ]
     },
     "execution_count": 49,
     "metadata": {},
     "output_type": "execute_result"
    }
   ],
   "source": [
    "\n",
    "sum([n for n in range(4,8) ])"
   ]
  },
  {
   "cell_type": "markdown",
   "metadata": {},
   "source": [
    "$$\\sum_{n=-2}^3 (n + 1)$$"
   ]
  },
  {
   "cell_type": "code",
   "execution_count": 50,
   "metadata": {},
   "outputs": [
    {
     "data": {
      "text/plain": [
       "9"
      ]
     },
     "execution_count": 50,
     "metadata": {},
     "output_type": "execute_result"
    }
   ],
   "source": [
    "sum([n+1 for n in range(-2,4) ])"
   ]
  },
  {
   "cell_type": "markdown",
   "metadata": {},
   "source": [
    "$$\\sum_{n=-2}^3 (n^2 - 2)$$"
   ]
  },
  {
   "cell_type": "code",
   "execution_count": 51,
   "metadata": {},
   "outputs": [
    {
     "data": {
      "text/plain": [
       "0"
      ]
     },
     "execution_count": 51,
     "metadata": {},
     "output_type": "execute_result"
    }
   ],
   "source": [
    "sum([n**2-2 for n in range(-2,3) ])"
   ]
  },
  {
   "cell_type": "markdown",
   "metadata": {},
   "source": [
    "$$\\sum_{n=0}^4 (10^n - 1)$$"
   ]
  },
  {
   "cell_type": "code",
   "execution_count": 52,
   "metadata": {},
   "outputs": [
    {
     "data": {
      "text/plain": [
       "11106"
      ]
     },
     "execution_count": 52,
     "metadata": {},
     "output_type": "execute_result"
    }
   ],
   "source": [
    "sum([10**n -1 for n in range(0,5) ])"
   ]
  },
  {
   "cell_type": "markdown",
   "metadata": {},
   "source": [
    "### 6. Combinatorics"
   ]
  },
  {
   "cell_type": "markdown",
   "metadata": {},
   "source": [
    "#### 6.1. Ten people go to a party. How many handshakes happen?"
   ]
  },
  {
   "cell_type": "code",
   "execution_count": 53,
   "metadata": {},
   "outputs": [
    {
     "name": "stdout",
     "output_type": "stream",
     "text": [
      "Apretones totales:  45\n"
     ]
    }
   ],
   "source": [
    "def factorial(n):\n",
    "    if n==0:\n",
    "        return 1\n",
    "    else:\n",
    "        return n*factorial(n-1)\n",
    "    \n",
    "def combi(n,k):\n",
    "    return(factorial(n)/(factorial(k)*factorial(n-k)))\n",
    "\n",
    "apretones=combi(10,2)\n",
    "print(\"Apretones totales: \",round(apretones))"
   ]
  },
  {
   "cell_type": "markdown",
   "metadata": {},
   "source": [
    "#### 6.2. My family is composed of 11 members. By christmas, one buys food, one cooks and one cleans. How many possible arrangements of buyer-cooker-cleaner are there?"
   ]
  },
  {
   "cell_type": "code",
   "execution_count": 54,
   "metadata": {},
   "outputs": [
    {
     "name": "stdout",
     "output_type": "stream",
     "text": [
      "Opciones totales:  990\n"
     ]
    }
   ],
   "source": [
    "def permu(n,k):\n",
    "    return factorial(n)/factorial(n-k)\n",
    "           \n",
    "opciones_navidad=permu(11,3)\n",
    "print(\"Opciones totales: \",round(opciones_navidad))"
   ]
  },
  {
   "cell_type": "markdown",
   "metadata": {},
   "source": [
    "### BONUS"
   ]
  },
  {
   "cell_type": "markdown",
   "metadata": {},
   "source": [
    "11 and 13 are twin primes, since:\n",
    " - they are both primes  \n",
    " - their distance is 2\n",
    " \n",
    "Find all pairs of twin primes below 1000"
   ]
  },
  {
   "cell_type": "code",
   "execution_count": 55,
   "metadata": {},
   "outputs": [
    {
     "name": "stdout",
     "output_type": "stream",
     "text": [
      "[(3, 5), (5, 7), (11, 13), (17, 19), (29, 31), (41, 43), (59, 61), (71, 73), (101, 103), (107, 109), (137, 139), (149, 151), (179, 181), (191, 193), (197, 199), (227, 229), (239, 241), (269, 271), (281, 283), (311, 313), (347, 349), (419, 421), (431, 433), (461, 463), (521, 523), (569, 571), (599, 601), (617, 619), (641, 643), (659, 661), (809, 811), (821, 823), (827, 829), (857, 859), (881, 883), (1019, 1021), (1031, 1033), (1049, 1051), (1061, 1063), (1091, 1093), (1151, 1153), (1229, 1231), (1277, 1279), (1289, 1291), (1301, 1303), (1319, 1321), (1427, 1429), (1451, 1453), (1481, 1483), (1487, 1489), (1607, 1609), (1619, 1621), (1667, 1669), (1697, 1699), (1721, 1723), (1787, 1789), (1871, 1873), (1877, 1879), (1931, 1933), (1949, 1951), (1997, 1999), (2027, 2029), (2081, 2083), (2087, 2089), (2111, 2113), (2129, 2131), (2141, 2143), (2237, 2239), (2267, 2269), (2309, 2311), (2339, 2341), (2381, 2383), (2549, 2551), (2591, 2593), (2657, 2659), (2687, 2689), (2711, 2713), (2729, 2731), (2789, 2791), (2801, 2803), (2969, 2971), (2999, 3001), (3119, 3121), (3167, 3169), (3251, 3253), (3257, 3259), (3299, 3301), (3329, 3331), (3359, 3361), (3371, 3373), (3389, 3391), (3461, 3463), (3467, 3469), (3527, 3529), (3539, 3541), (3557, 3559), (3581, 3583), (3671, 3673), (3767, 3769), (3821, 3823), (3851, 3853), (3917, 3919), (3929, 3931), (4001, 4003), (4019, 4021), (4049, 4051), (4091, 4093), (4127, 4129), (4157, 4159), (4217, 4219), (4229, 4231), (4241, 4243), (4259, 4261), (4271, 4273), (4337, 4339), (4421, 4423), (4481, 4483), (4517, 4519), (4547, 4549), (4637, 4639), (4649, 4651), (4721, 4723), (4787, 4789), (4799, 4801), (4931, 4933), (4967, 4969), (5009, 5011), (5021, 5023), (5099, 5101), (5231, 5233), (5279, 5281), (5417, 5419), (5441, 5443), (5477, 5479), (5501, 5503), (5519, 5521), (5639, 5641), (5651, 5653), (5657, 5659), (5741, 5743), (5849, 5851), (5867, 5869), (5879, 5881), (6089, 6091), (6131, 6133), (6197, 6199), (6269, 6271), (6299, 6301), (6359, 6361), (6449, 6451), (6551, 6553), (6569, 6571), (6659, 6661), (6689, 6691), (6701, 6703), (6761, 6763), (6779, 6781), (6791, 6793), (6827, 6829), (6869, 6871), (6947, 6949), (6959, 6961), (7127, 7129), (7211, 7213), (7307, 7309), (7331, 7333), (7349, 7351), (7457, 7459), (7487, 7489), (7547, 7549), (7559, 7561), (7589, 7591), (7757, 7759), (7877, 7879), (7949, 7951), (8009, 8011), (8087, 8089), (8219, 8221), (8231, 8233), (8291, 8293), (8387, 8389), (8429, 8431), (8537, 8539), (8597, 8599), (8627, 8629), (8819, 8821), (8837, 8839), (8861, 8863), (8969, 8971), (8999, 9001), (9011, 9013), (9041, 9043), (9239, 9241), (9281, 9283), (9341, 9343), (9419, 9421), (9431, 9433), (9437, 9439), (9461, 9463), (9629, 9631), (9677, 9679), (9719, 9721), (9767, 9769), (9857, 9859), (9929, 9931), (10007, 10009), (10037, 10039), (10067, 10069), (10091, 10093), (10139, 10141), (10271, 10273), (10301, 10303), (10331, 10333), (10427, 10429), (10457, 10459), (10499, 10501), (10529, 10531), (10709, 10711), (10859, 10861), (10889, 10891), (10937, 10939), (11057, 11059), (11069, 11071), (11117, 11119), (11159, 11161), (11171, 11173), (11351, 11353), (11489, 11491), (11549, 11551), (11699, 11701), (11717, 11719), (11777, 11779), (11831, 11833), (11939, 11941), (11969, 11971), (12041, 12043), (12071, 12073), (12107, 12109), (12161, 12163), (12239, 12241), (12251, 12253), (12377, 12379), (12539, 12541), (12611, 12613), (12821, 12823), (12917, 12919), (13001, 13003), (13007, 13009), (13217, 13219), (13337, 13339), (13397, 13399), (13679, 13681), (13691, 13693), (13709, 13711), (13721, 13723), (13757, 13759), (13829, 13831), (13877, 13879), (13901, 13903), (13931, 13933), (13997, 13999), (14009, 14011), (14081, 14083), (14249, 14251), (14321, 14323), (14387, 14389), (14447, 14449), (14549, 14551), (14561, 14563), (14591, 14593), (14627, 14629), (14867, 14869), (15137, 15139), (15269, 15271), (15287, 15289), (15329, 15331), (15359, 15361), (15581, 15583), (15641, 15643), (15647, 15649), (15731, 15733), (15737, 15739), (15887, 15889), (15971, 15973), (16061, 16063), (16067, 16069), (16139, 16141), (16187, 16189), (16229, 16231), (16361, 16363), (16451, 16453), (16631, 16633), (16649, 16651), (16691, 16693), (16829, 16831), (16901, 16903), (16979, 16981), (17027, 17029), (17189, 17191), (17207, 17209), (17291, 17293), (17387, 17389), (17417, 17419), (17489, 17491), (17579, 17581), (17597, 17599), (17657, 17659), (17681, 17683), (17747, 17749), (17789, 17791), (17837, 17839), (17909, 17911), (17921, 17923), (17957, 17959), (17987, 17989), (18041, 18043), (18047, 18049), (18059, 18061), (18119, 18121), (18131, 18133), (18251, 18253), (18287, 18289), (18311, 18313), (18521, 18523), (18539, 18541), (18911, 18913), (18917, 18919), (19079, 19081), (19139, 19141), (19181, 19183), (19211, 19213), (19379, 19381), (19421, 19423), (19427, 19429), (19469, 19471), (19541, 19543), (19697, 19699), (19751, 19753), (19841, 19843), (19889, 19891), (19961, 19963), (19991, 19993), (20021, 20023), (20147, 20149), (20231, 20233), (20357, 20359), (20441, 20443), (20477, 20479), (20507, 20509), (20549, 20551), (20639, 20641), (20717, 20719), (20747, 20749), (20771, 20773), (20807, 20809), (20897, 20899), (20981, 20983), (21011, 21013), (21017, 21019), (21059, 21061), (21191, 21193), (21317, 21319), (21377, 21379), (21491, 21493), (21521, 21523), (21557, 21559), (21587, 21589), (21599, 21601), (21611, 21613), (21647, 21649), (21737, 21739), (21839, 21841), (22037, 22039), (22091, 22093), (22109, 22111), (22157, 22159), (22271, 22273), (22277, 22279), (22367, 22369), (22481, 22483), (22541, 22543), (22571, 22573), (22619, 22621), (22637, 22639), (22697, 22699), (22739, 22741), (22859, 22861), (22961, 22963), (23027, 23029), (23039, 23041), (23057, 23059), (23201, 23203), (23291, 23293), (23369, 23371), (23537, 23539), (23561, 23563), (23627, 23629), (23669, 23671), (23687, 23689), (23741, 23743), (23831, 23833), (23909, 23911), (24107, 24109), (24179, 24181), (24371, 24373), (24419, 24421), (24917, 24919), (24977, 24979), (25031, 25033), (25169, 25171), (25301, 25303), (25307, 25309), (25409, 25411), (25469, 25471), (25577, 25579), (25601, 25603), (25799, 25801), (25847, 25849), (25931, 25933), (25997, 25999), (26111, 26113), (26249, 26251), (26261, 26263), (26681, 26683), (26699, 26701), (26711, 26713), (26729, 26731), (26861, 26863), (26879, 26881), (26891, 26893), (26951, 26953), (27059, 27061), (27107, 27109), (27239, 27241), (27281, 27283), (27407, 27409), (27479, 27481), (27527, 27529), (27539, 27541), (27581, 27583), (27689, 27691), (27737, 27739), (27749, 27751), (27791, 27793), (27917, 27919), (27941, 27943), (28097, 28099), (28109, 28111), (28181, 28183), (28277, 28279), (28307, 28309), (28349, 28351), (28409, 28411), (28547, 28549), (28571, 28573), (28619, 28621), (28661, 28663), (28751, 28753), (29021, 29023), (29129, 29131), (29207, 29209), (29387, 29389), (29399, 29401), (29567, 29569), (29669, 29671), (29759, 29761), (29879, 29881), (30011, 30013), (30089, 30091), (30137, 30139), (30269, 30271), (30389, 30391), (30467, 30469), (30491, 30493), (30557, 30559), (30839, 30841), (30851, 30853), (30869, 30871), (31079, 31081), (31121, 31123), (31151, 31153), (31181, 31183), (31247, 31249), (31319, 31321), (31391, 31393), (31511, 31513), (31541, 31543), (31721, 31723), (31727, 31729), (31769, 31771), (31847, 31849), (32027, 32029), (32057, 32059), (32117, 32119), (32141, 32143), (32189, 32191), (32297, 32299), (32321, 32323), (32369, 32371), (32411, 32413), (32441, 32443), (32531, 32533), (32561, 32563), (32609, 32611), (32717, 32719), (32801, 32803), (32831, 32833), (32909, 32911), (32939, 32941), (32969, 32971), (33071, 33073), (33149, 33151), (33179, 33181), (33287, 33289), (33329, 33331), (33347, 33349), (33587, 33589), (33599, 33601), (33617, 33619), (33749, 33751), (33767, 33769), (33809, 33811), (33827, 33829), (34031, 34033), (34127, 34129), (34157, 34159), (34211, 34213), (34259, 34261), (34301, 34303), (34367, 34369), (34469, 34471), (34499, 34501), (34511, 34513), (34589, 34591), (34649, 34651), (34757, 34759), (34841, 34843), (34847, 34849), (34961, 34963), (35051, 35053), (35081, 35083), (35279, 35281), (35447, 35449), (35507, 35509), (35531, 35533), (35591, 35593), (35729, 35731), (35801, 35803), (35837, 35839), (35897, 35899), (36011, 36013), (36107, 36109), (36341, 36343), (36467, 36469), (36527, 36529), (36779, 36781), (36791, 36793), (36899, 36901), (36929, 36931), (37019, 37021), (37199, 37201), (37307, 37309), (37337, 37339), (37361, 37363), (37547, 37549), (37571, 37573), (37589, 37591), (37691, 37693), (37781, 37783), (37811, 37813), (37991, 37993), (38237, 38239), (38327, 38329), (38447, 38449), (38459, 38461), (38567, 38569), (38609, 38611), (38651, 38653), (38669, 38671), (38711, 38713), (38747, 38749), (38921, 38923), (39041, 39043), (39161, 39163), (39227, 39229), (39239, 39241), (39341, 39343), (39371, 39373), (39509, 39511), (39827, 39829), (39839, 39841), (40037, 40039), (40127, 40129), (40151, 40153), (40427, 40429), (40529, 40531), (40637, 40639), (40697, 40699), (40847, 40849), (41141, 41143), (41177, 41179), (41201, 41203), (41231, 41233), (41387, 41389), (41411, 41413), (41519, 41521), (41609, 41611), (41759, 41761), (41849, 41851), (41957, 41959), (41981, 41983), (42017, 42019), (42071, 42073), (42179, 42181), (42221, 42223), (42281, 42283), (42407, 42409), (42461, 42463), (42569, 42571), (42641, 42643), (42701, 42703), (42839, 42841), (42899, 42901), (43049, 43051), (43319, 43321), (43397, 43399), (43541, 43543), (43577, 43579), (43607, 43609), (43649, 43651), (43781, 43783), (43787, 43789), (43889, 43891), (43961, 43963), (44027, 44029), (44087, 44089), (44129, 44131), (44201, 44203), (44267, 44269), (44279, 44281), (44381, 44383), (44531, 44533), (44621, 44623), (44699, 44701), (44771, 44773), (45119, 45121), (45137, 45139), (45179, 45181), (45317, 45319), (45341, 45343), (45587, 45589), (45821, 45823), (46049, 46051), (46091, 46093), (46181, 46183), (46271, 46273), (46307, 46309), (46349, 46351), (46439, 46441), (46589, 46591), (46679, 46681), (46769, 46771), (46817, 46819), (46829, 46831), (47057, 47059), (47147, 47149), (47351, 47353), (47387, 47389), (47417, 47419), (47657, 47659), (47699, 47701), (47711, 47713), (47741, 47743), (47777, 47779), (47807, 47809), (48119, 48121), (48311, 48313), (48407, 48409), (48479, 48481), (48539, 48541), (48647, 48649), (48677, 48679), (48731, 48733), (48779, 48781), (48821, 48823), (48857, 48859), (48869, 48871), (48989, 48991), (49031, 49033), (49121, 49123), (49169, 49171), (49199, 49201), (49277, 49279), (49331, 49333), (49367, 49369), (49391, 49393), (49409, 49411), (49529, 49531), (49547, 49549), (49667, 49669), (49739, 49741), (49787, 49789), (49919, 49921), (49937, 49939), (49991, 49993), (50021, 50023), (50051, 50053), (50129, 50131), (50261, 50263), (50459, 50461), (50549, 50551), (50591, 50593), (50891, 50893), (50969, 50971), (51059, 51061), (51131, 51133), (51197, 51199), (51239, 51241), (51341, 51343), (51347, 51349), (51419, 51421), (51437, 51439), (51479, 51481), (51719, 51721), (51767, 51769), (51827, 51829), (51869, 51871), (51971, 51973), (52067, 52069), (52181, 52183), (52289, 52291), (52361, 52363), (52541, 52543), (52709, 52711), (52859, 52861), (52901, 52903), (53087, 53089), (53147, 53149), (53171, 53173), (53231, 53233), (53267, 53269), (53279, 53281), (53549, 53551), (53591, 53593), (53609, 53611), (53717, 53719), (53897, 53899), (54011, 54013), (54401, 54403), (54419, 54421), (54497, 54499), (54539, 54541), (54581, 54583), (54629, 54631), (54917, 54919), (55049, 55051), (55217, 55219), (55331, 55333), (55337, 55339), (55439, 55441), (55619, 55621), (55631, 55633), (55661, 55663), (55817, 55819), (55901, 55903), (55931, 55933), (56039, 56041), (56099, 56101), (56207, 56209), (56237, 56239), (56267, 56269), (56477, 56479), (56501, 56503), (56531, 56533), (56597, 56599), (56711, 56713), (56807, 56809), (56891, 56893), (56909, 56911), (56921, 56923), (57191, 57193), (57221, 57223), (57269, 57271), (57329, 57331), (57347, 57349), (57527, 57529), (57557, 57559), (57791, 57793), (57899, 57901), (58109, 58111), (58151, 58153), (58169, 58171), (58229, 58231), (58367, 58369), (58391, 58393), (58439, 58441), (58451, 58453), (58601, 58603), (58787, 58789), (58907, 58909), (59009, 59011), (59021, 59023), (59051, 59053), (59207, 59209), (59219, 59221), (59357, 59359), (59417, 59419), (59441, 59443), (59471, 59473), (59627, 59629), (59669, 59671), (60089, 60091), (60101, 60103), (60167, 60169), (60257, 60259), (60647, 60649), (60659, 60661), (60761, 60763), (60887, 60889), (60899, 60901), (60917, 60919), (61151, 61153), (61331, 61333), (61379, 61381), (61469, 61471), (61559, 61561), (61979, 61981), (62129, 62131), (62141, 62143), (62189, 62191), (62297, 62299), (62927, 62929), (62969, 62971), (62981, 62983), (62987, 62989), (63029, 63031), (63197, 63199), (63311, 63313), (63389, 63391), (63419, 63421), (63587, 63589), (63599, 63601), (63647, 63649), (63689, 63691), (63839, 63841), (64151, 64153), (64187, 64189), (64301, 64303), (64451, 64453), (64577, 64579), (64661, 64663), (64781, 64783), (64877, 64879), (64919, 64921), (65027, 65029), (65099, 65101), (65171, 65173), (65267, 65269), (65447, 65449), (65519, 65521), (65537, 65539), (65579, 65581), (65699, 65701), (65717, 65719), (65729, 65731), (65837, 65839), (65927, 65929), (65981, 65983), (66107, 66109), (66359, 66361), (66569, 66571), (66749, 66751), (66851, 66853), (66947, 66949), (67139, 67141), (67187, 67189), (67211, 67213), (67217, 67219), (67271, 67273), (67409, 67411), (67427, 67429), (67577, 67579), (67757, 67759), (67931, 67933), (68111, 68113), (68207, 68209), (68279, 68281), (68447, 68449), (68489, 68491), (68711, 68713), (68819, 68821), (68879, 68881), (68897, 68899), (69029, 69031), (69149, 69151), (69191, 69193), (69257, 69259), (69401, 69403), (69491, 69493), (69497, 69499), (69737, 69739), (69761, 69763), (69827, 69829), (69857, 69859), (69929, 69931), (70001, 70003), (70121, 70123), (70139, 70141), (70181, 70183), (70199, 70201), (70379, 70381), (70457, 70459), (70487, 70489), (70571, 70573), (70619, 70621), (70841, 70843), (70877, 70879), (70919, 70921), (70949, 70951), (70979, 70981), (70997, 70999), (71261, 71263), (71327, 71329), (71339, 71341), (71387, 71389), (71411, 71413), (71471, 71473), (71549, 71551), (71711, 71713), (71807, 71809), (71879, 71881), (72089, 72091), (72101, 72103), (72167, 72169), (72221, 72223), (72227, 72229), (72251, 72253), (72269, 72271), (72467, 72469), (72647, 72649), (72671, 72673), (72869, 72871), (73037, 73039), (73061, 73063), (73361, 73363), (73607, 73609), (73679, 73681), (73847, 73849), (74099, 74101), (74159, 74161), (74201, 74203), (74381, 74383), (74411, 74413), (74507, 74509), (74609, 74611), (74717, 74719), (74729, 74731), (74759, 74761), (75011, 75013), (75167, 75169), (75209, 75211), (75389, 75391), (75401, 75403), (75539, 75541), (75617, 75619), (75707, 75709), (75989, 75991), (76001, 76003), (76079, 76081), (76157, 76159), (76259, 76261), (76367, 76369), (76421, 76423), (76541, 76543), (76649, 76651), (76829, 76831), (76871, 76873), (76961, 76963), (77237, 77239), (77261, 77263), (77267, 77269), (77417, 77419), (77477, 77479), (77489, 77491), (77549, 77551), (77687, 77689), (77711, 77713), (78137, 78139), (78191, 78193), (78437, 78439), (78509, 78511), (78539, 78541), (78569, 78571), (78779, 78781), (78887, 78889), (78977, 78979), (79151, 79153), (79229, 79231), (79397, 79399), (79559, 79561), (79631, 79633), (79691, 79693), (79697, 79699), (79811, 79813), (79841, 79843), (79901, 79903), (79997, 79999), (80147, 80149), (80207, 80209), (80231, 80233), (80447, 80449), (80471, 80473), (80489, 80491), (80627, 80629), (80669, 80671), (80681, 80683), (80747, 80749), (80777, 80779), (80831, 80833), (80909, 80911), (81017, 81019), (81041, 81043), (81047, 81049), (81197, 81199), (81281, 81283), (81371, 81373), (81551, 81553), (81647, 81649), (81701, 81703), (81899, 81901), (81929, 81931), (81971, 81973), (82007, 82009), (82037, 82039), (82139, 82141), (82217, 82219), (82349, 82351), (82469, 82471), (82529, 82531), (82559, 82561), (82721, 82723), (82727, 82729), (82757, 82759), (82811, 82813), (82889, 82891), (83219, 83221), (83231, 83233), (83267, 83269), (83339, 83341), (83399, 83401), (83561, 83563), (83639, 83641), (83717, 83719), (84059, 84061), (84179, 84181), (84221, 84223), (84317, 84319), (84347, 84349), (84389, 84391), (84521, 84523), (84629, 84631), (84809, 84811), (84857, 84859), (84869, 84871), (84977, 84979), (85091, 85093), (85199, 85201), (85331, 85333), (85361, 85363), (85427, 85429), (85451, 85453), (85619, 85621), (85667, 85669), (85817, 85819), (85829, 85831), (85931, 85933), (86027, 86029), (86111, 86113), (86291, 86293), (86351, 86353), (86369, 86371), (86531, 86533), (86627, 86629), (86927, 86929), (87011, 87013), (87119, 87121), (87149, 87151), (87179, 87181), (87221, 87223), (87251, 87253), (87509, 87511), (87539, 87541), (87557, 87559), (87587, 87589), (87629, 87631), (87641, 87643), (87719, 87721), (87959, 87961), (88001, 88003), (88259, 88261), (88337, 88339), (88469, 88471), (88589, 88591), (88607, 88609), (88661, 88663), (88799, 88801), (88811, 88813), (88817, 88819), (89069, 89071), (89519, 89521), (89561, 89563), (89597, 89599), (89657, 89659), (89669, 89671), (89819, 89821), (89897, 89899), (90017, 90019), (90071, 90073), (90197, 90199), (90371, 90373), (90401, 90403), (90437, 90439), (90527, 90529), (90617, 90619), (90677, 90679), (90821, 90823), (91079, 91081), (91097, 91099), (91127, 91129), (91139, 91141), (91151, 91153), (91367, 91369), (91457, 91459), (91571, 91573), (91811, 91813), (91967, 91969), (92177, 92179), (92219, 92221), (92381, 92383), (92399, 92401), (92459, 92461), (92567, 92569), (92639, 92641), (92669, 92671), (92681, 92683), (92789, 92791), (92861, 92863), (92957, 92959), (93131, 93133), (93239, 93241), (93251, 93253), (93281, 93283), (93479, 93481), (93491, 93493), (93557, 93559), (93701, 93703), (93761, 93763), (93809, 93811), (93887, 93889), (93911, 93913), (94007, 94009), (94109, 94111), (94151, 94153), (94307, 94309), (94349, 94351), (94397, 94399), (94439, 94441), (94529, 94531), (94541, 94543), (94559, 94561), (94649, 94651), (94847, 94849), (94949, 94951), (95087, 95089), (95189, 95191), (95231, 95233), (95441, 95443), (95789, 95791), (95801, 95803), (95957, 95959), (95987, 95989), (96179, 96181), (96221, 96223), (96329, 96331), (96587, 96589), (96737, 96739), (96797, 96799), (96821, 96823), (97001, 97003), (97157, 97159), (97169, 97171), (97301, 97303), (97367, 97369), (97379, 97381), (97499, 97501), (97547, 97549), (97577, 97579), (97607, 97609), (97649, 97651), (97787, 97789), (97841, 97843), (97847, 97849), (97859, 97861), (98009, 98011), (98297, 98299), (98321, 98323), (98387, 98389), (98561, 98563), (98639, 98641), (98711, 98713), (98729, 98731), (98807, 98809), (98867, 98869), (98897, 98899), (98909, 98911), (98927, 98929), (99131, 99133), (99137, 99139), (99257, 99259), (99347, 99349), (99527, 99529), (99707, 99709), (99719, 99721), (99989, 99991)]\n"
     ]
    }
   ],
   "source": [
    "from math import sqrt\n",
    "from math import floor\n",
    "from functools import reduce\n",
    "#calcula los primeros n primos usando el método de erastófenes\n",
    "\n",
    "def sacar_primero_no_marcado(lista,num):\n",
    "    l=lista[num:]\n",
    "    \n",
    "    for i,elemento in enumerate(lista):\n",
    "        if not elemento:\n",
    "            return i+num\n",
    "    return i\n",
    "\n",
    "def tachar_multiplos(lista,num):\n",
    "    ultimo = len(lista) - 1\n",
    "    i = 2\n",
    "    multiplo = num * i\n",
    "    \n",
    "    while multiplo <= ultimo:\n",
    "        lista[multiplo] = False\n",
    "        i += 1\n",
    "        multiplo = num * i        \n",
    "    return lista\n",
    "\n",
    "def crear_lista(num):\n",
    "    return [False if i<2 else True for i in range(0,num+1) ]\n",
    "  \n",
    "    \n",
    "\n",
    "def erastofenes(num):\n",
    "    lista = crear_lista(num)\n",
    "    \n",
    "    primero_no_marca = sacar_primero_no_marcado(lista,2)\n",
    "    cuadrado = primero_no_marca ** 2\n",
    "    ultimo = len(lista) - 1\n",
    "    \n",
    "    while cuadrado <= ultimo:\n",
    "        tachar_multiplos(lista,primero_no_marca)\n",
    "        primero_no_marca = sacar_primero_no_marcado(lista,primero_no_marca+1)\n",
    "        cuadrado = primero_no_marca ** 2    \n",
    "        \n",
    "    primos = [x  for x in range(len(lista)-1) if lista[x]]\n",
    "    return primos\n",
    "\n",
    "\n",
    "\n",
    "def es_primo(num):\n",
    "    raiz_cuadrada_con_decimales = sqrt(num)           #no encontraba la raiz exacta y el radicando\n",
    "    raiz_cuadrada = floor(raiz_cuadrada_con_decimales)\n",
    "\n",
    "    if raiz_cuadrada == raiz_cuadrada_con_decimales:\n",
    "        return False\n",
    "    \n",
    "    else:\n",
    "        primos = erastofenes(raiz_cuadrada)\n",
    "        \n",
    "        for num_primo in primos:\n",
    "            if num % num_primo == 0:\n",
    "                return False\n",
    "        return True\n",
    "\n",
    "    \n",
    "primos=erastofenes(100000)                 \n",
    "primos_mas_dos=list(map(lambda x: x+ 2,primos))\n",
    "gemelos=[(x-2 , x) for x in primos_mas_dos if x in primos]\n",
    "print(gemelos)"
   ]
  },
  {
   "cell_type": "code",
   "execution_count": null,
   "metadata": {},
   "outputs": [],
   "source": []
  },
  {
   "cell_type": "code",
   "execution_count": null,
   "metadata": {},
   "outputs": [],
   "source": []
  }
 ],
 "metadata": {
  "kernelspec": {
   "display_name": "Python 3",
   "language": "python",
   "name": "python3"
  },
  "language_info": {
   "codemirror_mode": {
    "name": "ipython",
    "version": 3
   },
   "file_extension": ".py",
   "mimetype": "text/x-python",
   "name": "python",
   "nbconvert_exporter": "python",
   "pygments_lexer": "ipython3",
   "version": "3.8.5"
  },
  "toc": {
   "base_numbering": 1,
   "nav_menu": {},
   "number_sections": true,
   "sideBar": true,
   "skip_h1_title": false,
   "title_cell": "Table of Contents",
   "title_sidebar": "Contents",
   "toc_cell": false,
   "toc_position": {},
   "toc_section_display": true,
   "toc_window_display": false
  },
  "varInspector": {
   "cols": {
    "lenName": 16,
    "lenType": 16,
    "lenVar": 40
   },
   "kernels_config": {
    "python": {
     "delete_cmd_postfix": "",
     "delete_cmd_prefix": "del ",
     "library": "var_list.py",
     "varRefreshCmd": "print(var_dic_list())"
    },
    "r": {
     "delete_cmd_postfix": ") ",
     "delete_cmd_prefix": "rm(",
     "library": "var_list.r",
     "varRefreshCmd": "cat(var_dic_list()) "
    }
   },
   "types_to_exclude": [
    "module",
    "function",
    "builtin_function_or_method",
    "instance",
    "_Feature"
   ],
   "window_display": false
  }
 },
 "nbformat": 4,
 "nbformat_minor": 4
}
